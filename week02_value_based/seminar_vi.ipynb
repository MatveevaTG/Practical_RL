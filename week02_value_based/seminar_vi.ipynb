{
 "cells": [
  {
   "cell_type": "markdown",
   "metadata": {},
   "source": [
    "### Markov decision process\n",
    "\n",
    "This week's methods are all built to solve __M__arkov __D__ecision __P__rocesses. In the broadest sense, an MDP is defined by how it changes states and how rewards are computed.\n",
    "\n",
    "State transition is defined by $P(s' |s,a)$ - how likely are you to end at state $s'$ if you take action $a$ from state $s$. Now there's more than one way to define rewards, but we'll use $r(s,a,s')$ function for convenience.\n",
    "\n",
    "_This notebook is inspired by the awesome_ [CS294](https://github.com/berkeleydeeprlcourse/homework/blob/36a0b58261acde756abd55306fbe63df226bf62b/hw2/HW2.ipynb) _by Berkeley_"
   ]
  },
  {
   "cell_type": "markdown",
   "metadata": {},
   "source": [
    "For starters, let's define a simple MDP from this picture:\n",
    "\n",
    "<img src=\"https://upload.wikimedia.org/wikipedia/commons/a/ad/Markov_Decision_Process.svg\" width=\"400px\" alt=\"Diagram by Waldoalvarez via Wikimedia Commons, CC BY-SA 4.0\"/>"
   ]
  },
  {
   "cell_type": "code",
   "execution_count": 8,
   "metadata": {},
   "outputs": [
    {
     "name": "stdout",
     "output_type": "stream",
     "text": [
      "Starting virtual X frame buffer: Xvfb.\n"
     ]
    }
   ],
   "source": [
    "import sys, os\n",
    "if 'google.colab' in sys.modules and not os.path.exists('.setup_complete'):\n",
    "    !wget -q https://raw.githubusercontent.com/yandexdataschool/Practical_RL/spring20/setup_colab.sh -O- | bash\n",
    "    !wget -q https://raw.githubusercontent.com/yandexdataschool/Practical_RL/spring20/week02_value_based/mdp.py\n",
    "    !touch .setup_complete\n",
    "\n",
    "# This code creates a virtual display to draw game images on.\n",
    "# It will have no effect if your machine has a monitor.\n",
    "if type(os.environ.get(\"DISPLAY\")) is not str or len(os.environ.get(\"DISPLAY\")) == 0:\n",
    "    !bash ../xvfb start\n",
    "    os.environ['DISPLAY'] = ':1'"
   ]
  },
  {
   "cell_type": "code",
   "execution_count": 9,
   "metadata": {},
   "outputs": [],
   "source": [
    "transition_probs = {\n",
    "    's0': {\n",
    "        'a0': {'s0': 0.5, 's2': 0.5},\n",
    "        'a1': {'s2': 1}\n",
    "    },\n",
    "    's1': {\n",
    "        'a0': {'s0': 0.7, 's1': 0.1, 's2': 0.2},\n",
    "        'a1': {'s1': 0.95, 's2': 0.05}\n",
    "    },\n",
    "    's2': {\n",
    "        'a0': {'s0': 0.4, 's2': 0.6},\n",
    "        'a1': {'s0': 0.3, 's1': 0.3, 's2': 0.4}\n",
    "    }\n",
    "}\n",
    "rewards = {\n",
    "    's1': {'a0': {'s0': +5}},\n",
    "    's2': {'a1': {'s0': -1}}\n",
    "}\n",
    "\n",
    "from mdp import MDP\n",
    "mdp = MDP(transition_probs, rewards, initial_state='s0')"
   ]
  },
  {
   "cell_type": "markdown",
   "metadata": {},
   "source": [
    "We can now use MDP just as any other gym environment:"
   ]
  },
  {
   "cell_type": "code",
   "execution_count": 10,
   "metadata": {},
   "outputs": [
    {
     "name": "stdout",
     "output_type": "stream",
     "text": [
      "initial state = s0\n",
      "next_state = s2, reward = 0.0, done = False\n"
     ]
    }
   ],
   "source": [
    "print('initial state =', mdp.reset())\n",
    "next_state, reward, done, info = mdp.step('a1')\n",
    "print('next_state = %s, reward = %s, done = %s' % (next_state, reward, done))"
   ]
  },
  {
   "cell_type": "markdown",
   "metadata": {},
   "source": [
    "but it also has other methods that you'll need for Value Iteration"
   ]
  },
  {
   "cell_type": "code",
   "execution_count": 11,
   "metadata": {},
   "outputs": [
    {
     "name": "stdout",
     "output_type": "stream",
     "text": [
      "mdp.get_all_states = ('s1', 's0', 's2')\n",
      "mdp.get_possible_actions('s1') =  ('a0', 'a1')\n",
      "mdp.get_next_states('s1', 'a0') =  {'s1': 0.1, 's0': 0.7, 's2': 0.2}\n",
      "mdp.get_reward('s1', 'a0', 's0') =  5\n",
      "mdp.get_transition_prob('s1', 'a0', 's0') =  0.7\n"
     ]
    }
   ],
   "source": [
    "print(\"mdp.get_all_states =\", mdp.get_all_states())\n",
    "print(\"mdp.get_possible_actions('s1') = \", mdp.get_possible_actions('s1'))\n",
    "print(\"mdp.get_next_states('s1', 'a0') = \", mdp.get_next_states('s1', 'a0'))\n",
    "print(\"mdp.get_reward('s1', 'a0', 's0') = \", mdp.get_reward('s1', 'a0', 's0'))\n",
    "print(\"mdp.get_transition_prob('s1', 'a0', 's0') = \", mdp.get_transition_prob('s1', 'a0', 's0'))"
   ]
  },
  {
   "cell_type": "markdown",
   "metadata": {},
   "source": [
    "### Optional: Visualizing MDPs\n",
    "\n",
    "You can also visualize any MDP with the drawing fuction donated by [neer201](https://github.com/neer201).\n",
    "\n",
    "You have to install graphviz for system and for python. For ubuntu just run:\n",
    "\n",
    "1. `sudo apt-get install graphviz`\n",
    "2. `pip install graphviz`\n",
    "3. restart the notebook\n",
    "\n",
    "__Note:__ Installing graphviz on some OS (esp. Windows) may be tricky. However, you can ignore this part alltogether and use the standart vizualization."
   ]
  },
  {
   "cell_type": "code",
   "execution_count": 12,
   "metadata": {},
   "outputs": [
    {
     "name": "stdout",
     "output_type": "stream",
     "text": [
      "Graphviz available: True\n"
     ]
    }
   ],
   "source": [
    "from mdp import has_graphviz\n",
    "from IPython.display import display\n",
    "print(\"Graphviz available:\", has_graphviz)"
   ]
  },
  {
   "cell_type": "code",
   "execution_count": 13,
   "metadata": {},
   "outputs": [
    {
     "data": {
      "image/svg+xml": [
       "<?xml version=\"1.0\" encoding=\"UTF-8\" standalone=\"no\"?>\n",
       "<!DOCTYPE svg PUBLIC \"-//W3C//DTD SVG 1.1//EN\"\n",
       " \"http://www.w3.org/Graphics/SVG/1.1/DTD/svg11.dtd\">\n",
       "<!-- Generated by graphviz version 2.38.0 (20140413.2041)\n",
       " -->\n",
       "<!-- Title: MDP Pages: 1 -->\n",
       "<svg width=\"720pt\" height=\"189pt\"\n",
       " viewBox=\"0.00 0.00 720.00 189.31\" xmlns=\"http://www.w3.org/2000/svg\" xmlns:xlink=\"http://www.w3.org/1999/xlink\">\n",
       "<g id=\"graph0\" class=\"graph\" transform=\"scale(0.704871 0.704871) rotate(0) translate(4 264.577)\">\n",
       "<title>MDP</title>\n",
       "<polygon fill=\"white\" stroke=\"none\" points=\"-4,4 -4,-264.577 1017.46,-264.577 1017.46,4 -4,4\"/>\n",
       "<!-- s1 -->\n",
       "<g id=\"node1\" class=\"node\"><title>s1</title>\n",
       "<ellipse fill=\"#85ff75\" stroke=\"#85ff75\" cx=\"40\" cy=\"-163.577\" rx=\"36\" ry=\"36\"/>\n",
       "<ellipse fill=\"none\" stroke=\"#85ff75\" cx=\"40\" cy=\"-163.577\" rx=\"40\" ry=\"40\"/>\n",
       "<text text-anchor=\"middle\" x=\"40\" y=\"-157.377\" font-family=\"Arial\" font-size=\"24.00\">s1</text>\n",
       "</g>\n",
       "<!-- s1&#45;a0 -->\n",
       "<g id=\"node2\" class=\"node\"><title>s1&#45;a0</title>\n",
       "<ellipse fill=\"lightpink\" stroke=\"lightpink\" cx=\"201.577\" cy=\"-173.577\" rx=\"27.6545\" ry=\"27.6545\"/>\n",
       "<text text-anchor=\"middle\" x=\"201.577\" y=\"-168.577\" font-family=\"Arial\" font-size=\"20.00\">a0</text>\n",
       "</g>\n",
       "<!-- s1&#45;&gt;s1&#45;a0 -->\n",
       "<g id=\"edge1\" class=\"edge\"><title>s1&#45;&gt;s1&#45;a0</title>\n",
       "<path fill=\"none\" stroke=\"red\" stroke-width=\"2\" d=\"M80.037,-166.023C105.55,-167.622 138.661,-169.697 163.724,-171.268\"/>\n",
       "<polygon fill=\"red\" stroke=\"red\" stroke-width=\"2\" points=\"163.727,-174.775 173.927,-171.907 164.165,-167.788 163.727,-174.775\"/>\n",
       "</g>\n",
       "<!-- s1&#45;a1 -->\n",
       "<g id=\"node5\" class=\"node\"><title>s1&#45;a1</title>\n",
       "<ellipse fill=\"lightpink\" stroke=\"lightpink\" cx=\"201.577\" cy=\"-100.577\" rx=\"27.6545\" ry=\"27.6545\"/>\n",
       "<text text-anchor=\"middle\" x=\"201.577\" y=\"-95.5772\" font-family=\"Arial\" font-size=\"20.00\">a1</text>\n",
       "</g>\n",
       "<!-- s1&#45;&gt;s1&#45;a1 -->\n",
       "<g id=\"edge5\" class=\"edge\"><title>s1&#45;&gt;s1&#45;a1</title>\n",
       "<path fill=\"none\" stroke=\"red\" stroke-width=\"2\" d=\"M66.7961,-133.674C75.7848,-125.133 86.5194,-116.748 98,-111.577 118.443,-102.37 143.42,-99.5366 163.609,-99.0456\"/>\n",
       "<polygon fill=\"red\" stroke=\"red\" stroke-width=\"2\" points=\"163.703,-102.545 173.681,-98.981 163.658,-95.5453 163.703,-102.545\"/>\n",
       "</g>\n",
       "<!-- s1&#45;a0&#45;&gt;s1 -->\n",
       "<g id=\"edge2\" class=\"edge\"><title>s1&#45;a0&#45;&gt;s1</title>\n",
       "<path fill=\"none\" stroke=\"blue\" stroke-dasharray=\"5,2\" d=\"M173.706,-174.277C167.869,-174.402 161.728,-174.513 156,-174.577 130.224,-174.866 123.661,-177.031 98,-174.577 95.1313,-174.303 92.1923,-173.953 89.2345,-173.547\"/>\n",
       "<polygon fill=\"blue\" stroke=\"blue\" points=\"89.5999,-170.062 79.1807,-171.983 88.5237,-176.978 89.5999,-170.062\"/>\n",
       "<text text-anchor=\"middle\" x=\"127\" y=\"-181.777\" font-family=\"Arial\" font-size=\"16.00\">p = 0.1</text>\n",
       "</g>\n",
       "<!-- s0 -->\n",
       "<g id=\"node3\" class=\"node\"><title>s0</title>\n",
       "<ellipse fill=\"#85ff75\" stroke=\"#85ff75\" cx=\"833.309\" cy=\"-139.577\" rx=\"36\" ry=\"36\"/>\n",
       "<ellipse fill=\"none\" stroke=\"#85ff75\" cx=\"833.309\" cy=\"-139.577\" rx=\"40\" ry=\"40\"/>\n",
       "<text text-anchor=\"middle\" x=\"833.309\" y=\"-133.377\" font-family=\"Arial\" font-size=\"24.00\">s0</text>\n",
       "</g>\n",
       "<!-- s1&#45;a0&#45;&gt;s0 -->\n",
       "<g id=\"edge3\" class=\"edge\"><title>s1&#45;a0&#45;&gt;s0</title>\n",
       "<path fill=\"none\" stroke=\"blue\" stroke-dasharray=\"5,2\" d=\"M228.025,-181.965C293.301,-202.532 472.186,-252.922 623.309,-240.577 691.545,-235.003 716.769,-251.079 775.309,-215.577 788.371,-207.655 799.443,-195.517 808.255,-183.25\"/>\n",
       "<polygon fill=\"blue\" stroke=\"blue\" points=\"811.277,-185.029 813.991,-174.787 805.483,-181.101 811.277,-185.029\"/>\n",
       "<text text-anchor=\"middle\" x=\"485.654\" y=\"-247.777\" font-family=\"Arial\" font-size=\"16.00\">p = 0.7 &#160;reward =5</text>\n",
       "</g>\n",
       "<!-- s2 -->\n",
       "<g id=\"node4\" class=\"node\"><title>s2</title>\n",
       "<ellipse fill=\"#85ff75\" stroke=\"#85ff75\" cx=\"363.154\" cy=\"-108.577\" rx=\"36\" ry=\"36\"/>\n",
       "<ellipse fill=\"none\" stroke=\"#85ff75\" cx=\"363.154\" cy=\"-108.577\" rx=\"40\" ry=\"40\"/>\n",
       "<text text-anchor=\"middle\" x=\"363.154\" y=\"-102.377\" font-family=\"Arial\" font-size=\"24.00\">s2</text>\n",
       "</g>\n",
       "<!-- s1&#45;a0&#45;&gt;s2 -->\n",
       "<g id=\"edge4\" class=\"edge\"><title>s1&#45;a0&#45;&gt;s2</title>\n",
       "<path fill=\"none\" stroke=\"blue\" stroke-dasharray=\"5,2\" d=\"M227.511,-163.421C251.217,-153.765 287.443,-139.009 316.35,-127.235\"/>\n",
       "<polygon fill=\"blue\" stroke=\"blue\" points=\"317.903,-130.381 325.844,-123.367 315.262,-123.898 317.903,-130.381\"/>\n",
       "<text text-anchor=\"middle\" x=\"276.154\" y=\"-159.777\" font-family=\"Arial\" font-size=\"16.00\">p = 0.2</text>\n",
       "</g>\n",
       "<!-- s0&#45;a0 -->\n",
       "<g id=\"node6\" class=\"node\"><title>s0&#45;a0</title>\n",
       "<ellipse fill=\"lightpink\" stroke=\"lightpink\" cx=\"985.886\" cy=\"-106.577\" rx=\"27.6545\" ry=\"27.6545\"/>\n",
       "<text text-anchor=\"middle\" x=\"985.886\" y=\"-101.577\" font-family=\"Arial\" font-size=\"20.00\">a0</text>\n",
       "</g>\n",
       "<!-- s0&#45;&gt;s0&#45;a0 -->\n",
       "<g id=\"edge8\" class=\"edge\"><title>s0&#45;&gt;s0&#45;a0</title>\n",
       "<path fill=\"none\" stroke=\"red\" stroke-width=\"2\" d=\"M873.578,-136.949C893.779,-134.957 918.644,-131.506 940.309,-125.577 943.93,-124.586 947.643,-123.363 951.306,-122.02\"/>\n",
       "<polygon fill=\"red\" stroke=\"red\" stroke-width=\"2\" points=\"952.784,-125.199 960.788,-118.257 950.202,-118.692 952.784,-125.199\"/>\n",
       "</g>\n",
       "<!-- s0&#45;a1 -->\n",
       "<g id=\"node7\" class=\"node\"><title>s0&#45;a1</title>\n",
       "<ellipse fill=\"lightpink\" stroke=\"lightpink\" cx=\"985.886\" cy=\"-27.5772\" rx=\"27.6545\" ry=\"27.6545\"/>\n",
       "<text text-anchor=\"middle\" x=\"985.886\" y=\"-22.5772\" font-family=\"Arial\" font-size=\"20.00\">a1</text>\n",
       "</g>\n",
       "<!-- s0&#45;&gt;s0&#45;a1 -->\n",
       "<g id=\"edge11\" class=\"edge\"><title>s0&#45;&gt;s0&#45;a1</title>\n",
       "<path fill=\"none\" stroke=\"red\" stroke-width=\"2\" d=\"M865.246,-115.435C873.663,-108.938 882.804,-101.948 891.309,-95.5772 912.166,-79.9537 935.923,-62.697 954.28,-49.4772\"/>\n",
       "<polygon fill=\"red\" stroke=\"red\" stroke-width=\"2\" points=\"956.745,-52.0156 962.821,-43.3366 952.659,-46.3319 956.745,-52.0156\"/>\n",
       "</g>\n",
       "<!-- s2&#45;a0 -->\n",
       "<g id=\"node8\" class=\"node\"><title>s2&#45;a0</title>\n",
       "<ellipse fill=\"lightpink\" stroke=\"lightpink\" cx=\"595.731\" cy=\"-130.577\" rx=\"27.6545\" ry=\"27.6545\"/>\n",
       "<text text-anchor=\"middle\" x=\"595.731\" y=\"-125.577\" font-family=\"Arial\" font-size=\"20.00\">a0</text>\n",
       "</g>\n",
       "<!-- s2&#45;&gt;s2&#45;a0 -->\n",
       "<g id=\"edge13\" class=\"edge\"><title>s2&#45;&gt;s2&#45;a0</title>\n",
       "<path fill=\"none\" stroke=\"red\" stroke-width=\"2\" d=\"M401.626,-119.669C408.089,-121.228 414.779,-122.621 421.154,-123.577 467.916,-130.588 522.504,-131.637 557.794,-131.397\"/>\n",
       "<polygon fill=\"red\" stroke=\"red\" stroke-width=\"2\" points=\"558.135,-134.894 568.097,-131.286 558.06,-127.894 558.135,-134.894\"/>\n",
       "</g>\n",
       "<!-- s2&#45;a1 -->\n",
       "<g id=\"node9\" class=\"node\"><title>s2&#45;a1</title>\n",
       "<ellipse fill=\"lightpink\" stroke=\"lightpink\" cx=\"595.731\" cy=\"-203.577\" rx=\"27.6545\" ry=\"27.6545\"/>\n",
       "<text text-anchor=\"middle\" x=\"595.731\" y=\"-198.577\" font-family=\"Arial\" font-size=\"20.00\">a1</text>\n",
       "</g>\n",
       "<!-- s2&#45;&gt;s2&#45;a1 -->\n",
       "<g id=\"edge16\" class=\"edge\"><title>s2&#45;&gt;s2&#45;a1</title>\n",
       "<path fill=\"none\" stroke=\"red\" stroke-width=\"2\" d=\"M380.628,-145.039C390.049,-161.516 403.536,-179.512 421.154,-189.577 463.325,-213.668 520.92,-213.037 557.976,-209.225\"/>\n",
       "<polygon fill=\"red\" stroke=\"red\" stroke-width=\"2\" points=\"558.785,-212.654 568.314,-208.023 557.977,-205.701 558.785,-212.654\"/>\n",
       "</g>\n",
       "<!-- s1&#45;a1&#45;&gt;s1 -->\n",
       "<g id=\"edge6\" class=\"edge\"><title>s1&#45;a1&#45;&gt;s1</title>\n",
       "<path fill=\"none\" stroke=\"blue\" stroke-dasharray=\"5,2\" d=\"M175.56,-110.454C151.929,-119.783 115.91,-134.003 87.0824,-145.384\"/>\n",
       "<polygon fill=\"blue\" stroke=\"blue\" points=\"85.6263,-142.196 77.6102,-149.124 88.1969,-148.707 85.6263,-142.196\"/>\n",
       "<text text-anchor=\"middle\" x=\"127\" y=\"-144.777\" font-family=\"Arial\" font-size=\"16.00\">p = 0.95</text>\n",
       "</g>\n",
       "<!-- s1&#45;a1&#45;&gt;s2 -->\n",
       "<g id=\"edge7\" class=\"edge\"><title>s1&#45;a1&#45;&gt;s2</title>\n",
       "<path fill=\"none\" stroke=\"blue\" stroke-dasharray=\"5,2\" d=\"M229.287,-101.916C252.024,-103.056 285.285,-104.724 312.84,-106.105\"/>\n",
       "<polygon fill=\"blue\" stroke=\"blue\" points=\"312.925,-109.613 323.088,-106.619 313.276,-102.622 312.925,-109.613\"/>\n",
       "<text text-anchor=\"middle\" x=\"276.154\" y=\"-110.777\" font-family=\"Arial\" font-size=\"16.00\">p = 0.05</text>\n",
       "</g>\n",
       "<!-- s0&#45;a0&#45;&gt;s0 -->\n",
       "<g id=\"edge9\" class=\"edge\"><title>s0&#45;a0&#45;&gt;s0</title>\n",
       "<path fill=\"none\" stroke=\"blue\" stroke-dasharray=\"5,2\" d=\"M958.529,-101.448C939.476,-98.764 913.324,-97.2069 891.309,-103.577 885.619,-105.224 879.951,-107.626 874.518,-110.421\"/>\n",
       "<polygon fill=\"blue\" stroke=\"blue\" points=\"872.626,-107.47 865.637,-115.432 876.066,-113.567 872.626,-107.47\"/>\n",
       "<text text-anchor=\"middle\" x=\"915.809\" y=\"-108.777\" font-family=\"Arial\" font-size=\"16.00\">p = 0.5</text>\n",
       "</g>\n",
       "<!-- s0&#45;a0&#45;&gt;s2 -->\n",
       "<g id=\"edge10\" class=\"edge\"><title>s0&#45;a0&#45;&gt;s2</title>\n",
       "<path fill=\"none\" stroke=\"blue\" stroke-dasharray=\"5,2\" d=\"M959.107,-99.4392C952.985,-97.9606 946.449,-96.5567 940.309,-95.5772 910.821,-90.8726 903.147,-91.7352 873.309,-90.5772 729.792,-85.0071 693.779,-89.7994 550.154,-89.5772 492.821,-89.4885 477.747,-80.3934 421.154,-89.5772 417.703,-90.1372 414.179,-90.8762 410.66,-91.7378\"/>\n",
       "<polygon fill=\"blue\" stroke=\"blue\" points=\"409.534,-88.4174 400.82,-94.4435 411.39,-95.1669 409.534,-88.4174\"/>\n",
       "<text text-anchor=\"middle\" x=\"708.309\" y=\"-94.7772\" font-family=\"Arial\" font-size=\"16.00\">p = 0.5</text>\n",
       "</g>\n",
       "<!-- s0&#45;a1&#45;&gt;s2 -->\n",
       "<g id=\"edge12\" class=\"edge\"><title>s0&#45;a1&#45;&gt;s2</title>\n",
       "<path fill=\"none\" stroke=\"blue\" stroke-dasharray=\"5,2\" d=\"M958.169,-26.9014C876.229,-25.5085 621.859,-26.2602 421.154,-81.5772 416.821,-82.7714 412.412,-84.2768 408.063,-85.9629\"/>\n",
       "<polygon fill=\"blue\" stroke=\"blue\" points=\"406.56,-82.7979 398.691,-89.892 409.266,-89.2536 406.56,-82.7979\"/>\n",
       "<text text-anchor=\"middle\" x=\"708.309\" y=\"-46.7772\" font-family=\"Arial\" font-size=\"16.00\">p = 1</text>\n",
       "</g>\n",
       "<!-- s2&#45;a0&#45;&gt;s0 -->\n",
       "<g id=\"edge14\" class=\"edge\"><title>s2&#45;a0&#45;&gt;s0</title>\n",
       "<path fill=\"none\" stroke=\"blue\" stroke-dasharray=\"5,2\" d=\"M623.297,-131.592C661.861,-133.065 734.04,-135.823 782.641,-137.68\"/>\n",
       "<polygon fill=\"blue\" stroke=\"blue\" points=\"782.81,-141.189 792.936,-138.073 783.077,-134.194 782.81,-141.189\"/>\n",
       "<text text-anchor=\"middle\" x=\"708.309\" y=\"-142.777\" font-family=\"Arial\" font-size=\"16.00\">p = 0.4</text>\n",
       "</g>\n",
       "<!-- s2&#45;a0&#45;&gt;s2 -->\n",
       "<g id=\"edge15\" class=\"edge\"><title>s2&#45;a0&#45;&gt;s2</title>\n",
       "<path fill=\"none\" stroke=\"blue\" stroke-dasharray=\"5,2\" d=\"M573.767,-113.401C566.695,-108.611 558.475,-104.045 550.154,-101.577 504.988,-88.1783 450.94,-92.3112 412.776,-98.3527\"/>\n",
       "<polygon fill=\"blue\" stroke=\"blue\" points=\"411.732,-94.9794 402.453,-100.094 412.896,-101.882 411.732,-94.9794\"/>\n",
       "<text text-anchor=\"middle\" x=\"485.654\" y=\"-106.777\" font-family=\"Arial\" font-size=\"16.00\">p = 0.6</text>\n",
       "</g>\n",
       "<!-- s2&#45;a1&#45;&gt;s1 -->\n",
       "<g id=\"edge17\" class=\"edge\"><title>s2&#45;a1&#45;&gt;s1</title>\n",
       "<path fill=\"none\" stroke=\"blue\" stroke-dasharray=\"5,2\" d=\"M568.999,-211.048C562.876,-212.513 556.326,-213.827 550.154,-214.577 384.187,-234.752 340.566,-225.003 174,-210.577 139.931,-207.627 130.08,-210.42 98,-198.577 92.5565,-196.568 87.0663,-194.009 81.7551,-191.192\"/>\n",
       "<polygon fill=\"blue\" stroke=\"blue\" points=\"83.4537,-188.132 73.0256,-186.26 80.0101,-194.227 83.4537,-188.132\"/>\n",
       "<text text-anchor=\"middle\" x=\"276.154\" y=\"-227.777\" font-family=\"Arial\" font-size=\"16.00\">p = 0.3</text>\n",
       "</g>\n",
       "<!-- s2&#45;a1&#45;&gt;s0 -->\n",
       "<g id=\"edge18\" class=\"edge\"><title>s2&#45;a1&#45;&gt;s0</title>\n",
       "<path fill=\"none\" stroke=\"blue\" stroke-dasharray=\"5,2\" d=\"M622.968,-197.941C657.971,-190.233 721.756,-175.53 775.309,-159.577 778.677,-158.574 782.141,-157.49 785.617,-156.365\"/>\n",
       "<polygon fill=\"blue\" stroke=\"blue\" points=\"786.995,-159.595 795.377,-153.114 784.783,-152.953 786.995,-159.595\"/>\n",
       "<text text-anchor=\"middle\" x=\"708.309\" y=\"-198.777\" font-family=\"Arial\" font-size=\"16.00\">p = 0.3 &#160;reward =&#45;1</text>\n",
       "</g>\n",
       "<!-- s2&#45;a1&#45;&gt;s2 -->\n",
       "<g id=\"edge19\" class=\"edge\"><title>s2&#45;a1&#45;&gt;s2</title>\n",
       "<path fill=\"none\" stroke=\"blue\" stroke-dasharray=\"5,2\" d=\"M575.277,-184.476C567.93,-178.225 559.158,-171.806 550.154,-167.577 497.217,-142.712 475.853,-162.281 421.154,-141.577 416.075,-139.654 410.918,-137.309 405.887,-134.764\"/>\n",
       "<polygon fill=\"blue\" stroke=\"blue\" points=\"407.48,-131.647 397.012,-130.016 404.178,-137.82 407.48,-131.647\"/>\n",
       "<text text-anchor=\"middle\" x=\"485.654\" y=\"-172.777\" font-family=\"Arial\" font-size=\"16.00\">p = 0.4</text>\n",
       "</g>\n",
       "</g>\n",
       "</svg>\n"
      ],
      "text/plain": [
       "<graphviz.dot.Digraph at 0x7f68ffa77a90>"
      ]
     },
     "metadata": {},
     "output_type": "display_data"
    }
   ],
   "source": [
    "if has_graphviz:\n",
    "    from mdp import plot_graph, plot_graph_with_state_values, plot_graph_optimal_strategy_and_state_values\n",
    "    display(plot_graph(mdp))"
   ]
  },
  {
   "cell_type": "markdown",
   "metadata": {},
   "source": [
    "### Value Iteration\n",
    "\n",
    "Now let's build something to solve this MDP. The simplest algorithm so far is __V__alue __I__teration\n",
    "\n",
    "Here's the pseudo-code for VI:\n",
    "\n",
    "---\n",
    "\n",
    "`1.` Initialize $V^{(0)}(s)=0$, for all $s$\n",
    "\n",
    "`2.` For $i=0, 1, 2, \\dots$\n",
    " \n",
    "`3.` $ \\quad V_{(i+1)}(s) = \\max_a \\sum_{s'} P(s' | s,a) \\cdot [ r(s,a,s') + \\gamma V_{i}(s')]$, for all $s$\n",
    "\n",
    "---"
   ]
  },
  {
   "cell_type": "markdown",
   "metadata": {},
   "source": [
    "First, let's write a function to compute the state-action value function $Q^{\\pi}$, defined as follows\n",
    "\n",
    "$$Q_i(s, a) = \\sum_{s'} P(s' | s,a) \\cdot [ r(s,a,s') + \\gamma V_{i}(s')]$$\n"
   ]
  },
  {
   "cell_type": "code",
   "execution_count": 14,
   "metadata": {},
   "outputs": [
    {
     "name": "stdout",
     "output_type": "stream",
     "text": [
      "Overwriting mdp_get_action_value.py\n"
     ]
    }
   ],
   "source": [
    "%%writefile mdp_get_action_value.py\n",
    "\n",
    "def get_action_value(mdp, state_values, state, action, gamma):\n",
    "    \"\"\" Computes Q(s,a) as in formula above \"\"\"\n",
    "    q = 0\n",
    "    for s in state_values.keys():\n",
    "        q += mdp.get_transition_prob(state, action, s)*(mdp.get_reward(state, action, s)+gamma*state_values[s])\n",
    "\n",
    "    return q"
   ]
  },
  {
   "cell_type": "code",
   "execution_count": 15,
   "metadata": {},
   "outputs": [],
   "source": [
    "from mdp_get_action_value import get_action_value"
   ]
  },
  {
   "cell_type": "code",
   "execution_count": 16,
   "metadata": {},
   "outputs": [
    {
     "name": "stdout",
     "output_type": "stream",
     "text": [
      "{'s1': 1, 's0': 0, 's2': 2}\n"
     ]
    }
   ],
   "source": [
    "test_Vs = {s: i for i, s in enumerate(sorted(mdp.get_all_states()))}\n",
    "print(test_Vs)"
   ]
  },
  {
   "cell_type": "code",
   "execution_count": 17,
   "metadata": {},
   "outputs": [],
   "source": [
    "import numpy as np\n",
    "test_Vs = {s: i for i, s in enumerate(sorted(mdp.get_all_states()))}\n",
    "assert np.isclose(get_action_value(mdp, test_Vs, 's2', 'a1', 0.9), 0.69)\n",
    "assert np.isclose(get_action_value(mdp, test_Vs, 's1', 'a0', 0.9), 3.95)"
   ]
  },
  {
   "cell_type": "markdown",
   "metadata": {},
   "source": [
    "Using $Q(s,a)$ we can now define the \"next\" V(s) for value iteration.\n",
    " $$V_{(i+1)}(s) = \\max_a \\sum_{s'} P(s' | s,a) \\cdot [ r(s,a,s') + \\gamma V_{i}(s')] = \\max_a Q_i(s,a)$$"
   ]
  },
  {
   "cell_type": "code",
   "execution_count": 18,
   "metadata": {},
   "outputs": [],
   "source": [
    "def get_new_state_value(mdp, state_values, state, gamma):\n",
    "    \"\"\" Computes next V(s) as in formula above. Please do not change state_values in process. \"\"\"\n",
    "    if mdp.is_terminal(state):\n",
    "        return 0\n",
    "\n",
    "    v = np.max(list(map(lambda action: get_action_value(mdp, state_values, state, action, gamma), mdp.get_possible_actions(state))))\n",
    "    \n",
    "    return v"
   ]
  },
  {
   "cell_type": "code",
   "execution_count": 19,
   "metadata": {},
   "outputs": [],
   "source": [
    "test_Vs_copy = dict(test_Vs)\n",
    "assert np.isclose(get_new_state_value(mdp, test_Vs, 's0', 0.9), 1.8)\n",
    "assert np.isclose(get_new_state_value(mdp, test_Vs, 's2', 0.9), 1.08)\n",
    "assert np.isclose(get_new_state_value(mdp, {'s0': -1e10, 's1': 0, 's2': -2e10}, 's0', 0.9), -13500000000.0), \\\n",
    "    \"Please ensure that you handle negative Q-values of arbitrary magnitude correctly\"\n",
    "assert test_Vs == test_Vs_copy, \"Please do not change state_values in get_new_state_value\""
   ]
  },
  {
   "cell_type": "markdown",
   "metadata": {},
   "source": [
    "Finally, let's combine everything we wrote into a working value iteration algo."
   ]
  },
  {
   "cell_type": "code",
   "execution_count": 20,
   "metadata": {},
   "outputs": [
    {
     "data": {
      "image/svg+xml": [
       "<?xml version=\"1.0\" encoding=\"UTF-8\" standalone=\"no\"?>\n",
       "<!DOCTYPE svg PUBLIC \"-//W3C//DTD SVG 1.1//EN\"\n",
       " \"http://www.w3.org/Graphics/SVG/1.1/DTD/svg11.dtd\">\n",
       "<!-- Generated by graphviz version 2.38.0 (20140413.2041)\n",
       " -->\n",
       "<!-- Title: MDP Pages: 1 -->\n",
       "<svg width=\"720pt\" height=\"238pt\"\n",
       " viewBox=\"0.00 0.00 720.00 237.84\" xmlns=\"http://www.w3.org/2000/svg\" xmlns:xlink=\"http://www.w3.org/1999/xlink\">\n",
       "<g id=\"graph0\" class=\"graph\" transform=\"scale(0.666223 0.666223) rotate(0) translate(4 353)\">\n",
       "<title>MDP</title>\n",
       "<polygon fill=\"white\" stroke=\"none\" points=\"-4,4 -4,-353 1076.72,-353 1076.72,4 -4,4\"/>\n",
       "<!-- s2 -->\n",
       "<g id=\"node1\" class=\"node\"><title>s2</title>\n",
       "<ellipse fill=\"#85ff75\" stroke=\"#85ff75\" cx=\"51.3762\" cy=\"-202\" rx=\"47.2622\" ry=\"47.2622\"/>\n",
       "<ellipse fill=\"none\" stroke=\"#85ff75\" cx=\"51.3762\" cy=\"-202\" rx=\"51.2526\" ry=\"51.2526\"/>\n",
       "<text text-anchor=\"middle\" x=\"51.3762\" y=\"-208.8\" font-family=\"Arial\" font-size=\"24.00\">s2</text>\n",
       "<text text-anchor=\"middle\" x=\"51.3762\" y=\"-182.8\" font-family=\"Arial\" font-size=\"24.00\">V =0</text>\n",
       "</g>\n",
       "<!-- s2&#45;a0 -->\n",
       "<g id=\"node2\" class=\"node\"><title>s2&#45;a0</title>\n",
       "<ellipse fill=\"lightpink\" stroke=\"lightpink\" cx=\"215.329\" cy=\"-275\" rx=\"27.6545\" ry=\"27.6545\"/>\n",
       "<text text-anchor=\"middle\" x=\"215.329\" y=\"-270\" font-family=\"Arial\" font-size=\"20.00\">a0</text>\n",
       "</g>\n",
       "<!-- s2&#45;&gt;s2&#45;a0 -->\n",
       "<g id=\"edge1\" class=\"edge\"><title>s2&#45;&gt;s2&#45;a0</title>\n",
       "<path fill=\"none\" stroke=\"red\" stroke-width=\"2\" d=\"M98.7855,-222.919C124.91,-234.694 156.943,-249.133 180.65,-259.819\"/>\n",
       "<polygon fill=\"red\" stroke=\"red\" stroke-width=\"2\" points=\"179.382,-263.087 189.937,-264.005 182.258,-256.705 179.382,-263.087\"/>\n",
       "</g>\n",
       "<!-- s2&#45;a1 -->\n",
       "<g id=\"node4\" class=\"node\"><title>s2&#45;a1</title>\n",
       "<ellipse fill=\"lightpink\" stroke=\"lightpink\" cx=\"215.329\" cy=\"-154\" rx=\"27.6545\" ry=\"27.6545\"/>\n",
       "<text text-anchor=\"middle\" x=\"215.329\" y=\"-149\" font-family=\"Arial\" font-size=\"20.00\">a1</text>\n",
       "</g>\n",
       "<!-- s2&#45;&gt;s2&#45;a1 -->\n",
       "<g id=\"edge4\" class=\"edge\"><title>s2&#45;&gt;s2&#45;a1</title>\n",
       "<path fill=\"none\" stroke=\"red\" stroke-width=\"2\" d=\"M96.3332,-176.802C104.27,-173.039 112.613,-169.568 120.752,-167 138.888,-161.279 159.789,-158.074 177.232,-156.279\"/>\n",
       "<polygon fill=\"red\" stroke=\"red\" stroke-width=\"2\" points=\"177.95,-159.728 187.59,-155.333 177.314,-152.757 177.95,-159.728\"/>\n",
       "</g>\n",
       "<!-- s2&#45;a0&#45;&gt;s2 -->\n",
       "<g id=\"edge2\" class=\"edge\"><title>s2&#45;a0&#45;&gt;s2</title>\n",
       "<path fill=\"none\" stroke=\"blue\" stroke-dasharray=\"5,2\" d=\"M187.505,-272.494C168.225,-269.935 141.995,-264.871 120.752,-255 113.116,-251.452 105.545,-246.916 98.3774,-241.995\"/>\n",
       "<polygon fill=\"blue\" stroke=\"blue\" points=\"100.327,-239.086 90.1682,-236.078 96.2338,-244.764 100.327,-239.086\"/>\n",
       "<text text-anchor=\"middle\" x=\"145.252\" y=\"-275.2\" font-family=\"Arial\" font-size=\"16.00\">p = 0.6</text>\n",
       "</g>\n",
       "<!-- s0 -->\n",
       "<g id=\"node3\" class=\"node\"><title>s0</title>\n",
       "<ellipse fill=\"#85ff75\" stroke=\"#85ff75\" cx=\"881.189\" cy=\"-129\" rx=\"47.2622\" ry=\"47.2622\"/>\n",
       "<ellipse fill=\"none\" stroke=\"#85ff75\" cx=\"881.189\" cy=\"-129\" rx=\"51.2526\" ry=\"51.2526\"/>\n",
       "<text text-anchor=\"middle\" x=\"881.189\" y=\"-135.8\" font-family=\"Arial\" font-size=\"24.00\">s0</text>\n",
       "<text text-anchor=\"middle\" x=\"881.189\" y=\"-109.8\" font-family=\"Arial\" font-size=\"24.00\">V =0</text>\n",
       "</g>\n",
       "<!-- s2&#45;a0&#45;&gt;s0 -->\n",
       "<g id=\"edge3\" class=\"edge\"><title>s2&#45;a0&#45;&gt;s0</title>\n",
       "<path fill=\"none\" stroke=\"blue\" stroke-dasharray=\"5,2\" d=\"M243.017,-276.758C313.528,-280.615 509.986,-286.239 664.813,-242 724.892,-224.834 787.477,-189.758 829.597,-163.212\"/>\n",
       "<polygon fill=\"blue\" stroke=\"blue\" points=\"831.715,-166.013 838.267,-157.686 827.953,-160.11 831.715,-166.013\"/>\n",
       "<text text-anchor=\"middle\" x=\"524.659\" y=\"-281.2\" font-family=\"Arial\" font-size=\"16.00\">p = 0.4</text>\n",
       "</g>\n",
       "<!-- s0&#45;a0 -->\n",
       "<g id=\"node6\" class=\"node\"><title>s0&#45;a0</title>\n",
       "<ellipse fill=\"lightpink\" stroke=\"lightpink\" cx=\"1045.14\" cy=\"-162\" rx=\"27.6545\" ry=\"27.6545\"/>\n",
       "<text text-anchor=\"middle\" x=\"1045.14\" y=\"-157\" font-family=\"Arial\" font-size=\"20.00\">a0</text>\n",
       "</g>\n",
       "<!-- s0&#45;&gt;s0&#45;a0 -->\n",
       "<g id=\"edge8\" class=\"edge\"><title>s0&#45;&gt;s0&#45;a0</title>\n",
       "<path fill=\"none\" stroke=\"red\" stroke-width=\"2\" d=\"M932.759,-131.869C953.69,-133.869 978.052,-137.258 999.566,-143 1003.19,-143.968 1006.91,-145.176 1010.58,-146.511\"/>\n",
       "<polygon fill=\"red\" stroke=\"red\" stroke-width=\"2\" points=\"1009.47,-149.839 1020.06,-150.262 1012.05,-143.33 1009.47,-149.839\"/>\n",
       "</g>\n",
       "<!-- s0&#45;a1 -->\n",
       "<g id=\"node7\" class=\"node\"><title>s0&#45;a1</title>\n",
       "<ellipse fill=\"lightpink\" stroke=\"lightpink\" cx=\"1045.14\" cy=\"-45\" rx=\"27.6545\" ry=\"27.6545\"/>\n",
       "<text text-anchor=\"middle\" x=\"1045.14\" y=\"-40\" font-family=\"Arial\" font-size=\"20.00\">a1</text>\n",
       "</g>\n",
       "<!-- s0&#45;&gt;s0&#45;a1 -->\n",
       "<g id=\"edge11\" class=\"edge\"><title>s0&#45;&gt;s0&#45;a1</title>\n",
       "<path fill=\"none\" stroke=\"red\" stroke-width=\"2\" d=\"M927.302,-105.601C953.908,-91.8017 986.987,-74.6448 1011.15,-62.1123\"/>\n",
       "<polygon fill=\"red\" stroke=\"red\" stroke-width=\"2\" points=\"1013,-65.0958 1020.27,-57.3846 1009.78,-58.8819 1013,-65.0958\"/>\n",
       "</g>\n",
       "<!-- s2&#45;a1&#45;&gt;s2 -->\n",
       "<g id=\"edge5\" class=\"edge\"><title>s2&#45;a1&#45;&gt;s2</title>\n",
       "<path fill=\"none\" stroke=\"blue\" stroke-dasharray=\"5,2\" d=\"M188.804,-161.565C167.885,-167.765 137.466,-176.781 110.657,-184.727\"/>\n",
       "<polygon fill=\"blue\" stroke=\"blue\" points=\"109.561,-181.401 100.967,-187.598 111.55,-188.112 109.561,-181.401\"/>\n",
       "<text text-anchor=\"middle\" x=\"145.252\" y=\"-186.2\" font-family=\"Arial\" font-size=\"16.00\">p = 0.4</text>\n",
       "</g>\n",
       "<!-- s2&#45;a1&#45;&gt;s0 -->\n",
       "<g id=\"edge6\" class=\"edge\"><title>s2&#45;a1&#45;&gt;s0</title>\n",
       "<path fill=\"none\" stroke=\"blue\" stroke-dasharray=\"5,2\" d=\"M239.404,-139.82C263.002,-126.026 301.168,-105.639 336.907,-95 507.401,-44.2477 720.892,-86.5115 821.975,-112.444\"/>\n",
       "<polygon fill=\"blue\" stroke=\"blue\" points=\"821.134,-115.842 831.693,-114.976 822.899,-109.068 821.134,-115.842\"/>\n",
       "<text text-anchor=\"middle\" x=\"524.659\" y=\"-79.2\" font-family=\"Arial\" font-size=\"16.00\">p = 0.3 &#160;reward =&#45;1</text>\n",
       "</g>\n",
       "<!-- s1 -->\n",
       "<g id=\"node5\" class=\"node\"><title>s1</title>\n",
       "<ellipse fill=\"#85ff75\" stroke=\"#85ff75\" cx=\"388.283\" cy=\"-155\" rx=\"47.2622\" ry=\"47.2622\"/>\n",
       "<ellipse fill=\"none\" stroke=\"#85ff75\" cx=\"388.283\" cy=\"-155\" rx=\"51.2526\" ry=\"51.2526\"/>\n",
       "<text text-anchor=\"middle\" x=\"388.283\" y=\"-161.8\" font-family=\"Arial\" font-size=\"24.00\">s1</text>\n",
       "<text text-anchor=\"middle\" x=\"388.283\" y=\"-135.8\" font-family=\"Arial\" font-size=\"24.00\">V =0</text>\n",
       "</g>\n",
       "<!-- s2&#45;a1&#45;&gt;s1 -->\n",
       "<g id=\"edge7\" class=\"edge\"><title>s2&#45;a1&#45;&gt;s1</title>\n",
       "<path fill=\"none\" stroke=\"blue\" stroke-dasharray=\"5,2\" d=\"M243.041,-154.156C265.288,-154.286 297.829,-154.477 326.375,-154.644\"/>\n",
       "<polygon fill=\"blue\" stroke=\"blue\" points=\"326.665,-158.145 336.685,-154.704 326.706,-151.145 326.665,-158.145\"/>\n",
       "<text text-anchor=\"middle\" x=\"289.907\" y=\"-160.2\" font-family=\"Arial\" font-size=\"16.00\">p = 0.3</text>\n",
       "</g>\n",
       "<!-- s1&#45;a0 -->\n",
       "<g id=\"node8\" class=\"node\"><title>s1&#45;a0</title>\n",
       "<ellipse fill=\"lightpink\" stroke=\"lightpink\" cx=\"637.236\" cy=\"-129\" rx=\"27.6545\" ry=\"27.6545\"/>\n",
       "<text text-anchor=\"middle\" x=\"637.236\" y=\"-124\" font-family=\"Arial\" font-size=\"20.00\">a0</text>\n",
       "</g>\n",
       "<!-- s1&#45;&gt;s1&#45;a0 -->\n",
       "<g id=\"edge13\" class=\"edge\"><title>s1&#45;&gt;s1&#45;a0</title>\n",
       "<path fill=\"none\" stroke=\"red\" stroke-width=\"2\" d=\"M439.555,-149.707C487.008,-144.711 557.037,-137.338 599.473,-132.871\"/>\n",
       "<polygon fill=\"red\" stroke=\"red\" stroke-width=\"2\" points=\"600.058,-136.328 609.637,-131.8 599.325,-129.367 600.058,-136.328\"/>\n",
       "</g>\n",
       "<!-- s1&#45;a1 -->\n",
       "<g id=\"node9\" class=\"node\"><title>s1&#45;a1</title>\n",
       "<ellipse fill=\"lightpink\" stroke=\"lightpink\" cx=\"637.236\" cy=\"-205\" rx=\"27.6545\" ry=\"27.6545\"/>\n",
       "<text text-anchor=\"middle\" x=\"637.236\" y=\"-200\" font-family=\"Arial\" font-size=\"20.00\">a1</text>\n",
       "</g>\n",
       "<!-- s1&#45;&gt;s1&#45;a1 -->\n",
       "<g id=\"edge17\" class=\"edge\"><title>s1&#45;&gt;s1&#45;a1</title>\n",
       "<path fill=\"none\" stroke=\"red\" stroke-width=\"2\" d=\"M439.515,-159.16C480.927,-163.426 540.894,-171.542 591.659,-186 595.27,-187.028 598.976,-188.275 602.635,-189.634\"/>\n",
       "<polygon fill=\"red\" stroke=\"red\" stroke-width=\"2\" points=\"601.527,-192.96 612.112,-193.416 604.121,-186.459 601.527,-192.96\"/>\n",
       "</g>\n",
       "<!-- s0&#45;a0&#45;&gt;s2 -->\n",
       "<g id=\"edge9\" class=\"edge\"><title>s0&#45;a0&#45;&gt;s2</title>\n",
       "<path fill=\"none\" stroke=\"blue\" stroke-dasharray=\"5,2\" d=\"M1033.96,-187.301C1013.11,-234.446 960.823,-331 882.189,-331 214.329,-331 214.329,-331 214.329,-331 169.272,-331 156.403,-319.554 120.752,-292 107.252,-281.566 95.034,-267.836 84.7851,-254.254\"/>\n",
       "<polygon fill=\"blue\" stroke=\"blue\" points=\"87.3797,-251.872 78.6642,-245.847 81.7206,-255.992 87.3797,-251.872\"/>\n",
       "<text text-anchor=\"middle\" x=\"524.659\" y=\"-336.2\" font-family=\"Arial\" font-size=\"16.00\">p = 0.5</text>\n",
       "</g>\n",
       "<!-- s0&#45;a0&#45;&gt;s0 -->\n",
       "<g id=\"edge10\" class=\"edge\"><title>s0&#45;a0&#45;&gt;s0</title>\n",
       "<path fill=\"none\" stroke=\"blue\" stroke-dasharray=\"5,2\" d=\"M1017.99,-156.672C997.378,-152.471 967.823,-146.449 941.546,-141.095\"/>\n",
       "<polygon fill=\"blue\" stroke=\"blue\" points=\"942.158,-137.648 931.661,-139.08 940.761,-144.507 942.158,-137.648\"/>\n",
       "<text text-anchor=\"middle\" x=\"975.066\" y=\"-158.2\" font-family=\"Arial\" font-size=\"16.00\">p = 0.5</text>\n",
       "</g>\n",
       "<!-- s0&#45;a1&#45;&gt;s2 -->\n",
       "<g id=\"edge12\" class=\"edge\"><title>s0&#45;a1&#45;&gt;s2</title>\n",
       "<path fill=\"none\" stroke=\"blue\" stroke-dasharray=\"5,2\" d=\"M1019.76,-33.7607C988.562,-20.432 932.529,-0 882.189,-0 214.329,-0 214.329,-0 214.329,-0 140.242,-0 94.421,-83.7362 71.1796,-143.382\"/>\n",
       "<polygon fill=\"blue\" stroke=\"blue\" points=\"67.7679,-142.51 67.507,-153.101 74.316,-144.984 67.7679,-142.51\"/>\n",
       "<text text-anchor=\"middle\" x=\"524.659\" y=\"-5.2\" font-family=\"Arial\" font-size=\"16.00\">p = 1</text>\n",
       "</g>\n",
       "<!-- s1&#45;a0&#45;&gt;s2 -->\n",
       "<g id=\"edge14\" class=\"edge\"><title>s1&#45;a0&#45;&gt;s2</title>\n",
       "<path fill=\"none\" stroke=\"blue\" stroke-dasharray=\"5,2\" d=\"M625.001,-103.888C617.599,-90.6137 606.512,-75.5421 591.659,-68 460.516,-1.40717 402.759,-40.1276 260.907,-79 200.607,-95.5243 139.976,-134.374 99.7581,-164.025\"/>\n",
       "<polygon fill=\"blue\" stroke=\"blue\" points=\"97.6602,-161.224 91.7433,-170.012 101.849,-166.832 97.6602,-161.224\"/>\n",
       "<text text-anchor=\"middle\" x=\"289.907\" y=\"-84.2\" font-family=\"Arial\" font-size=\"16.00\">p = 0.2</text>\n",
       "</g>\n",
       "<!-- s1&#45;a0&#45;&gt;s0 -->\n",
       "<g id=\"edge15\" class=\"edge\"><title>s1&#45;a0&#45;&gt;s0</title>\n",
       "<path fill=\"none\" stroke=\"blue\" stroke-dasharray=\"5,2\" d=\"M665.054,-129C702.041,-129 769.76,-129 819.372,-129\"/>\n",
       "<polygon fill=\"blue\" stroke=\"blue\" points=\"819.666,-132.5 829.666,-129 819.666,-125.5 819.666,-132.5\"/>\n",
       "<text text-anchor=\"middle\" x=\"747.313\" y=\"-134.2\" font-family=\"Arial\" font-size=\"16.00\">p = 0.7 &#160;reward =5</text>\n",
       "</g>\n",
       "<!-- s1&#45;a0&#45;&gt;s1 -->\n",
       "<g id=\"edge16\" class=\"edge\"><title>s1&#45;a0&#45;&gt;s1</title>\n",
       "<path fill=\"none\" stroke=\"blue\" stroke-dasharray=\"5,2\" d=\"M611.707,-117.821C605.312,-115.417 598.338,-113.23 591.659,-112 533.089,-101.211 514.884,-95.502 457.659,-112 451.231,-113.853 444.825,-116.509 438.655,-119.603\"/>\n",
       "<polygon fill=\"blue\" stroke=\"blue\" points=\"436.926,-116.56 429.81,-124.409 440.267,-122.71 436.926,-116.56\"/>\n",
       "<text text-anchor=\"middle\" x=\"524.659\" y=\"-117.2\" font-family=\"Arial\" font-size=\"16.00\">p = 0.1</text>\n",
       "</g>\n",
       "<!-- s1&#45;a1&#45;&gt;s2 -->\n",
       "<g id=\"edge18\" class=\"edge\"><title>s1&#45;a1&#45;&gt;s2</title>\n",
       "<path fill=\"none\" stroke=\"blue\" stroke-dasharray=\"5,2\" d=\"M612.284,-217.291C605.762,-220.054 598.583,-222.586 591.659,-224 533.308,-235.917 517.193,-225.615 457.659,-224 335.305,-220.682 192.402,-211.738 113.167,-206.33\"/>\n",
       "<polygon fill=\"blue\" stroke=\"blue\" points=\"113.103,-202.818 102.887,-205.624 112.624,-209.801 113.103,-202.818\"/>\n",
       "<text text-anchor=\"middle\" x=\"289.907\" y=\"-224.2\" font-family=\"Arial\" font-size=\"16.00\">p = 0.05</text>\n",
       "</g>\n",
       "<!-- s1&#45;a1&#45;&gt;s1 -->\n",
       "<g id=\"edge19\" class=\"edge\"><title>s1&#45;a1&#45;&gt;s1</title>\n",
       "<path fill=\"none\" stroke=\"blue\" stroke-dasharray=\"5,2\" d=\"M609.498,-203.921C574.211,-201.998 510.397,-196.783 457.659,-183 453.54,-181.924 449.34,-180.656 445.149,-179.264\"/>\n",
       "<polygon fill=\"blue\" stroke=\"blue\" points=\"446.024,-175.861 435.429,-175.824 443.688,-182.46 446.024,-175.861\"/>\n",
       "<text text-anchor=\"middle\" x=\"524.659\" y=\"-208.2\" font-family=\"Arial\" font-size=\"16.00\">p = 0.95</text>\n",
       "</g>\n",
       "</g>\n",
       "</svg>\n"
      ],
      "text/plain": [
       "<graphviz.dot.Digraph at 0x7efbd51bfc50>"
      ]
     },
     "metadata": {},
     "output_type": "display_data"
    },
    {
     "name": "stdout",
     "output_type": "stream",
     "text": [
      "iter    0   |   diff: 3.50000   |   V(s2) = 0.000   V(s0) = 0.000   V(s1) = 0.000\n",
      "iter    1   |   diff: 0.64500   |   V(s2) = 0.000   V(s0) = 0.000   V(s1) = 3.500\n",
      "iter    2   |   diff: 0.58050   |   V(s2) = 0.645   V(s0) = 0.000   V(s1) = 3.815\n",
      "iter    3   |   diff: 0.43582   |   V(s2) = 0.962   V(s0) = 0.581   V(s1) = 3.959\n",
      "iter    4   |   diff: 0.30634   |   V(s2) = 1.272   V(s0) = 0.866   V(s1) = 4.395\n",
      "iter    5   |   diff: 0.27571   |   V(s2) = 1.579   V(s0) = 1.145   V(s1) = 4.670\n",
      "iter    6   |   diff: 0.24347   |   V(s2) = 1.838   V(s0) = 1.421   V(s1) = 4.926\n",
      "iter    7   |   diff: 0.21419   |   V(s2) = 2.075   V(s0) = 1.655   V(s1) = 5.169\n",
      "iter    8   |   diff: 0.19277   |   V(s2) = 2.290   V(s0) = 1.868   V(s1) = 5.381\n",
      "iter    9   |   diff: 0.17327   |   V(s2) = 2.481   V(s0) = 2.061   V(s1) = 5.573\n",
      "iter   10   |   diff: 0.15569   |   V(s2) = 2.654   V(s0) = 2.233   V(s1) = 5.746\n",
      "iter   11   |   diff: 0.14012   |   V(s2) = 2.810   V(s0) = 2.389   V(s1) = 5.902\n",
      "iter   12   |   diff: 0.12610   |   V(s2) = 2.950   V(s0) = 2.529   V(s1) = 6.042\n",
      "iter   13   |   diff: 0.11348   |   V(s2) = 3.076   V(s0) = 2.655   V(s1) = 6.168\n",
      "iter   14   |   diff: 0.10213   |   V(s2) = 3.190   V(s0) = 2.769   V(s1) = 6.282\n",
      "iter   15   |   diff: 0.09192   |   V(s2) = 3.292   V(s0) = 2.871   V(s1) = 6.384\n",
      "iter   16   |   diff: 0.08272   |   V(s2) = 3.384   V(s0) = 2.963   V(s1) = 6.476\n",
      "iter   17   |   diff: 0.07445   |   V(s2) = 3.467   V(s0) = 3.045   V(s1) = 6.558\n",
      "iter   18   |   diff: 0.06701   |   V(s2) = 3.541   V(s0) = 3.120   V(s1) = 6.633\n",
      "iter   19   |   diff: 0.06031   |   V(s2) = 3.608   V(s0) = 3.187   V(s1) = 6.700\n",
      "iter   20   |   diff: 0.05428   |   V(s2) = 3.668   V(s0) = 3.247   V(s1) = 6.760\n",
      "iter   21   |   diff: 0.04885   |   V(s2) = 3.723   V(s0) = 3.301   V(s1) = 6.814\n",
      "iter   22   |   diff: 0.04396   |   V(s2) = 3.771   V(s0) = 3.350   V(s1) = 6.863\n",
      "iter   23   |   diff: 0.03957   |   V(s2) = 3.815   V(s0) = 3.394   V(s1) = 6.907\n",
      "iter   24   |   diff: 0.03561   |   V(s2) = 3.855   V(s0) = 3.434   V(s1) = 6.947\n",
      "iter   25   |   diff: 0.03205   |   V(s2) = 3.891   V(s0) = 3.469   V(s1) = 6.982\n",
      "iter   26   |   diff: 0.02884   |   V(s2) = 3.923   V(s0) = 3.502   V(s1) = 7.014\n",
      "iter   27   |   diff: 0.02596   |   V(s2) = 3.951   V(s0) = 3.530   V(s1) = 7.043\n",
      "iter   28   |   diff: 0.02336   |   V(s2) = 3.977   V(s0) = 3.556   V(s1) = 7.069\n",
      "iter   29   |   diff: 0.02103   |   V(s2) = 4.001   V(s0) = 3.580   V(s1) = 7.093\n",
      "iter   30   |   diff: 0.01892   |   V(s2) = 4.022   V(s0) = 3.601   V(s1) = 7.114\n",
      "iter   31   |   diff: 0.01703   |   V(s2) = 4.041   V(s0) = 3.620   V(s1) = 7.133\n",
      "iter   32   |   diff: 0.01533   |   V(s2) = 4.058   V(s0) = 3.637   V(s1) = 7.150\n",
      "iter   33   |   diff: 0.01380   |   V(s2) = 4.073   V(s0) = 3.652   V(s1) = 7.165\n",
      "iter   34   |   diff: 0.01242   |   V(s2) = 4.087   V(s0) = 3.666   V(s1) = 7.179\n",
      "iter   35   |   diff: 0.01117   |   V(s2) = 4.099   V(s0) = 3.678   V(s1) = 7.191\n",
      "iter   36   |   diff: 0.01006   |   V(s2) = 4.110   V(s0) = 3.689   V(s1) = 7.202\n",
      "iter   37   |   diff: 0.00905   |   V(s2) = 4.121   V(s0) = 3.699   V(s1) = 7.212\n",
      "iter   38   |   diff: 0.00815   |   V(s2) = 4.130   V(s0) = 3.708   V(s1) = 7.221\n",
      "iter   39   |   diff: 0.00733   |   V(s2) = 4.138   V(s0) = 3.717   V(s1) = 7.230\n",
      "iter   40   |   diff: 0.00660   |   V(s2) = 4.145   V(s0) = 3.724   V(s1) = 7.237\n",
      "iter   41   |   diff: 0.00594   |   V(s2) = 4.152   V(s0) = 3.731   V(s1) = 7.244\n",
      "iter   42   |   diff: 0.00534   |   V(s2) = 4.158   V(s0) = 3.736   V(s1) = 7.249\n",
      "iter   43   |   diff: 0.00481   |   V(s2) = 4.163   V(s0) = 3.742   V(s1) = 7.255\n",
      "iter   44   |   diff: 0.00433   |   V(s2) = 4.168   V(s0) = 3.747   V(s1) = 7.260\n",
      "iter   45   |   diff: 0.00390   |   V(s2) = 4.172   V(s0) = 3.751   V(s1) = 7.264\n",
      "iter   46   |   diff: 0.00351   |   V(s2) = 4.176   V(s0) = 3.755   V(s1) = 7.268\n",
      "iter   47   |   diff: 0.00316   |   V(s2) = 4.179   V(s0) = 3.758   V(s1) = 7.271\n",
      "iter   48   |   diff: 0.00284   |   V(s2) = 4.183   V(s0) = 3.762   V(s1) = 7.275\n",
      "iter   49   |   diff: 0.00256   |   V(s2) = 4.185   V(s0) = 3.764   V(s1) = 7.277\n",
      "iter   50   |   diff: 0.00230   |   V(s2) = 4.188   V(s0) = 3.767   V(s1) = 7.280\n",
      "iter   51   |   diff: 0.00207   |   V(s2) = 4.190   V(s0) = 3.769   V(s1) = 7.282\n",
      "iter   52   |   diff: 0.00186   |   V(s2) = 4.192   V(s0) = 3.771   V(s1) = 7.284\n",
      "iter   53   |   diff: 0.00168   |   V(s2) = 4.194   V(s0) = 3.773   V(s1) = 7.286\n",
      "iter   54   |   diff: 0.00151   |   V(s2) = 4.196   V(s0) = 3.775   V(s1) = 7.288\n",
      "iter   55   |   diff: 0.00136   |   V(s2) = 4.197   V(s0) = 3.776   V(s1) = 7.289\n",
      "iter   56   |   diff: 0.00122   |   V(s2) = 4.199   V(s0) = 3.778   V(s1) = 7.291\n",
      "iter   57   |   diff: 0.00110   |   V(s2) = 4.200   V(s0) = 3.779   V(s1) = 7.292\n",
      "iter   58   |   diff: 0.00099   |   V(s2) = 4.201   V(s0) = 3.780   V(s1) = 7.293\n",
      "Terminated\n"
     ]
    }
   ],
   "source": [
    "# parameters\n",
    "gamma = 0.9            # discount for MDP\n",
    "num_iter = 100         # maximum iterations, excluding initialization\n",
    "# stop VI if new values are this close to old values (or closer)\n",
    "min_difference = 0.001\n",
    "\n",
    "# initialize V(s)\n",
    "state_values = {s: 0 for s in mdp.get_all_states()}\n",
    "\n",
    "if has_graphviz:\n",
    "    display(plot_graph_with_state_values(mdp, state_values))\n",
    "\n",
    "for i in range(num_iter):\n",
    "\n",
    "    # Compute new state values using the functions you defined above.\n",
    "    # It must be a dict {state : float V_new(state)}\n",
    "    new_state_values = {state: get_new_state_value(mdp, state_values, state, gamma) for state in mdp.get_all_states()}\n",
    "\n",
    "    assert isinstance(new_state_values, dict)\n",
    "\n",
    "    # Compute difference\n",
    "    diff = max(abs(new_state_values[s] - state_values[s])\n",
    "               for s in mdp.get_all_states())\n",
    "    print(\"iter %4i   |   diff: %6.5f   |   \" % (i, diff), end=\"\")\n",
    "    print('   '.join(\"V(%s) = %.3f\" % (s, v) for s, v in state_values.items()))\n",
    "    state_values = new_state_values\n",
    "\n",
    "    if diff < min_difference:\n",
    "        print(\"Terminated\")\n",
    "        break"
   ]
  },
  {
   "cell_type": "code",
   "execution_count": 21,
   "metadata": {},
   "outputs": [
    {
     "data": {
      "image/svg+xml": [
       "<?xml version=\"1.0\" encoding=\"UTF-8\" standalone=\"no\"?>\n",
       "<!DOCTYPE svg PUBLIC \"-//W3C//DTD SVG 1.1//EN\"\n",
       " \"http://www.w3.org/Graphics/SVG/1.1/DTD/svg11.dtd\">\n",
       "<!-- Generated by graphviz version 2.38.0 (20140413.2041)\n",
       " -->\n",
       "<!-- Title: MDP Pages: 1 -->\n",
       "<svg width=\"720pt\" height=\"232pt\"\n",
       " viewBox=\"0.00 0.00 720.00 231.58\" xmlns=\"http://www.w3.org/2000/svg\" xmlns:xlink=\"http://www.w3.org/1999/xlink\">\n",
       "<g id=\"graph0\" class=\"graph\" transform=\"scale(0.58777 0.58777) rotate(0) translate(4 390)\">\n",
       "<title>MDP</title>\n",
       "<polygon fill=\"white\" stroke=\"none\" points=\"-4,4 -4,-390 1220.97,-390 1220.97,4 -4,4\"/>\n",
       "<!-- s2 -->\n",
       "<g id=\"node1\" class=\"node\"><title>s2</title>\n",
       "<ellipse fill=\"#85ff75\" stroke=\"#85ff75\" cx=\"75.4178\" cy=\"-236\" rx=\"71.34\" ry=\"71.34\"/>\n",
       "<ellipse fill=\"none\" stroke=\"#85ff75\" cx=\"75.4178\" cy=\"-236\" rx=\"75.3357\" ry=\"75.3357\"/>\n",
       "<text text-anchor=\"middle\" x=\"75.4178\" y=\"-242.8\" font-family=\"Arial\" font-size=\"24.00\">s2</text>\n",
       "<text text-anchor=\"middle\" x=\"75.4178\" y=\"-216.8\" font-family=\"Arial\" font-size=\"24.00\">V =4.20</text>\n",
       "</g>\n",
       "<!-- s2&#45;a0 -->\n",
       "<g id=\"node2\" class=\"node\"><title>s2&#45;a0</title>\n",
       "<ellipse fill=\"lightpink\" stroke=\"lightpink\" cx=\"263.413\" cy=\"-312\" rx=\"27.6545\" ry=\"27.6545\"/>\n",
       "<text text-anchor=\"middle\" x=\"263.413\" y=\"-307\" font-family=\"Arial\" font-size=\"20.00\">a0</text>\n",
       "</g>\n",
       "<!-- s2&#45;&gt;s2&#45;a0 -->\n",
       "<g id=\"edge1\" class=\"edge\"><title>s2&#45;&gt;s2&#45;a0</title>\n",
       "<path fill=\"none\" stroke=\"red\" stroke-width=\"2\" d=\"M145.411,-264.192C173.635,-275.724 205.025,-288.551 228.18,-298.012\"/>\n",
       "<polygon fill=\"red\" stroke=\"red\" stroke-width=\"2\" points=\"226.986,-301.305 237.567,-301.848 229.634,-294.825 226.986,-301.305\"/>\n",
       "</g>\n",
       "<!-- s2&#45;a1 -->\n",
       "<g id=\"node4\" class=\"node\"><title>s2&#45;a1</title>\n",
       "<ellipse fill=\"lightpink\" stroke=\"lightpink\" cx=\"263.413\" cy=\"-180\" rx=\"27.6545\" ry=\"27.6545\"/>\n",
       "<text text-anchor=\"middle\" x=\"263.413\" y=\"-175\" font-family=\"Arial\" font-size=\"20.00\">a1</text>\n",
       "</g>\n",
       "<!-- s2&#45;&gt;s2&#45;a1 -->\n",
       "<g id=\"edge4\" class=\"edge\"><title>s2&#45;&gt;s2&#45;a1</title>\n",
       "<path fill=\"none\" stroke=\"red\" stroke-width=\"2\" d=\"M144.758,-206.129C152.792,-203.147 160.939,-200.357 168.836,-198 187.215,-192.514 208.14,-188.305 225.535,-185.342\"/>\n",
       "<polygon fill=\"red\" stroke=\"red\" stroke-width=\"2\" points=\"226.55,-188.723 235.855,-183.658 225.422,-181.814 226.55,-188.723\"/>\n",
       "</g>\n",
       "<!-- s2&#45;a0&#45;&gt;s2 -->\n",
       "<g id=\"edge2\" class=\"edge\"><title>s2&#45;a0&#45;&gt;s2</title>\n",
       "<path fill=\"none\" stroke=\"blue\" stroke-dasharray=\"5,2\" d=\"M235.909,-308.747C216.785,-305.828 190.609,-300.638 168.836,-292 161.724,-289.179 154.533,-285.835 147.468,-282.207\"/>\n",
       "<polygon fill=\"blue\" stroke=\"blue\" points=\"149.073,-279.097 138.602,-277.478 145.778,-285.273 149.073,-279.097\"/>\n",
       "<text text-anchor=\"middle\" x=\"193.336\" y=\"-311.2\" font-family=\"Arial\" font-size=\"16.00\">p = 0.6</text>\n",
       "</g>\n",
       "<!-- s0 -->\n",
       "<g id=\"node3\" class=\"node\"><title>s0</title>\n",
       "<ellipse fill=\"#85ff75\" stroke=\"#85ff75\" cx=\"1001.4\" cy=\"-139\" rx=\"71.34\" ry=\"71.34\"/>\n",
       "<ellipse fill=\"none\" stroke=\"#85ff75\" cx=\"1001.4\" cy=\"-139\" rx=\"75.3357\" ry=\"75.3357\"/>\n",
       "<text text-anchor=\"middle\" x=\"1001.4\" y=\"-145.8\" font-family=\"Arial\" font-size=\"24.00\">s0</text>\n",
       "<text text-anchor=\"middle\" x=\"1001.4\" y=\"-119.8\" font-family=\"Arial\" font-size=\"24.00\">V =3.78</text>\n",
       "</g>\n",
       "<!-- s2&#45;a0&#45;&gt;s0 -->\n",
       "<g id=\"edge3\" class=\"edge\"><title>s2&#45;a0&#45;&gt;s0</title>\n",
       "<path fill=\"none\" stroke=\"blue\" stroke-dasharray=\"5,2\" d=\"M291.224,-313.26C366.894,-316.039 587.86,-318.788 760.98,-267 821.219,-248.98 883.69,-214.982 929.709,-186.552\"/>\n",
       "<polygon fill=\"blue\" stroke=\"blue\" points=\"931.766,-189.394 938.397,-181.131 928.06,-183.456 931.766,-189.394\"/>\n",
       "<text text-anchor=\"middle\" x=\"620.825\" y=\"-311.2\" font-family=\"Arial\" font-size=\"16.00\">p = 0.4</text>\n",
       "</g>\n",
       "<!-- s0&#45;a0 -->\n",
       "<g id=\"node6\" class=\"node\"><title>s0&#45;a0</title>\n",
       "<ellipse fill=\"lightpink\" stroke=\"lightpink\" cx=\"1189.39\" cy=\"-172\" rx=\"27.6545\" ry=\"27.6545\"/>\n",
       "<text text-anchor=\"middle\" x=\"1189.39\" y=\"-167\" font-family=\"Arial\" font-size=\"20.00\">a0</text>\n",
       "</g>\n",
       "<!-- s0&#45;&gt;s0&#45;a0 -->\n",
       "<g id=\"edge8\" class=\"edge\"><title>s0&#45;&gt;s0&#45;a0</title>\n",
       "<path fill=\"none\" stroke=\"red\" stroke-width=\"2\" d=\"M1076.9,-142.109C1098.71,-144.161 1122.42,-147.52 1143.82,-153 1147.45,-153.932 1151.18,-155.116 1154.84,-156.436\"/>\n",
       "<polygon fill=\"red\" stroke=\"red\" stroke-width=\"2\" points=\"1153.75,-159.766 1164.33,-160.17 1156.31,-153.252 1153.75,-159.766\"/>\n",
       "</g>\n",
       "<!-- s0&#45;a1 -->\n",
       "<g id=\"node7\" class=\"node\"><title>s0&#45;a1</title>\n",
       "<ellipse fill=\"lightpink\" stroke=\"lightpink\" cx=\"1189.39\" cy=\"-50\" rx=\"27.6545\" ry=\"27.6545\"/>\n",
       "<text text-anchor=\"middle\" x=\"1189.39\" y=\"-45\" font-family=\"Arial\" font-size=\"20.00\">a1</text>\n",
       "</g>\n",
       "<!-- s0&#45;&gt;s0&#45;a1 -->\n",
       "<g id=\"edge11\" class=\"edge\"><title>s0&#45;&gt;s0&#45;a1</title>\n",
       "<path fill=\"none\" stroke=\"red\" stroke-width=\"2\" d=\"M1069.81,-106.743C1098.68,-92.9268 1131.12,-77.403 1154.77,-66.0897\"/>\n",
       "<polygon fill=\"red\" stroke=\"red\" stroke-width=\"2\" points=\"1156.5,-69.1424 1164.01,-61.6688 1153.48,-62.828 1156.5,-69.1424\"/>\n",
       "</g>\n",
       "<!-- s2&#45;a1&#45;&gt;s2 -->\n",
       "<g id=\"edge5\" class=\"edge\"><title>s2&#45;a1&#45;&gt;s2</title>\n",
       "<path fill=\"none\" stroke=\"blue\" stroke-dasharray=\"5,2\" d=\"M237.571,-189.953C231.183,-192.38 224.29,-194.885 217.836,-197 198.788,-203.243 178.086,-209.333 158.547,-214.775\"/>\n",
       "<polygon fill=\"blue\" stroke=\"blue\" points=\"157.467,-211.442 148.757,-217.475 159.328,-218.19 157.467,-211.442\"/>\n",
       "<text text-anchor=\"middle\" x=\"193.336\" y=\"-217.2\" font-family=\"Arial\" font-size=\"16.00\">p = 0.4</text>\n",
       "</g>\n",
       "<!-- s2&#45;a1&#45;&gt;s0 -->\n",
       "<g id=\"edge6\" class=\"edge\"><title>s2&#45;a1&#45;&gt;s0</title>\n",
       "<path fill=\"none\" stroke=\"blue\" stroke-dasharray=\"5,2\" d=\"M283.615,-160.634C305.794,-139.775 344.462,-107.849 384.99,-95 569.217,-36.5923 799.455,-82.372 919.335,-114.491\"/>\n",
       "<polygon fill=\"blue\" stroke=\"blue\" points=\"918.612,-117.921 929.18,-117.165 920.447,-111.166 918.612,-117.921\"/>\n",
       "<text text-anchor=\"middle\" x=\"620.825\" y=\"-77.2\" font-family=\"Arial\" font-size=\"16.00\">p = 0.3 &#160;reward =&#45;1</text>\n",
       "</g>\n",
       "<!-- s1 -->\n",
       "<g id=\"node5\" class=\"node\"><title>s1</title>\n",
       "<ellipse fill=\"#85ff75\" stroke=\"#85ff75\" cx=\"460.408\" cy=\"-179\" rx=\"71.34\" ry=\"71.34\"/>\n",
       "<ellipse fill=\"none\" stroke=\"#85ff75\" cx=\"460.408\" cy=\"-179\" rx=\"75.3357\" ry=\"75.3357\"/>\n",
       "<text text-anchor=\"middle\" x=\"460.408\" y=\"-185.8\" font-family=\"Arial\" font-size=\"24.00\">s1</text>\n",
       "<text text-anchor=\"middle\" x=\"460.408\" y=\"-159.8\" font-family=\"Arial\" font-size=\"24.00\">V =7.29</text>\n",
       "</g>\n",
       "<!-- s2&#45;a1&#45;&gt;s1 -->\n",
       "<g id=\"edge7\" class=\"edge\"><title>s2&#45;a1&#45;&gt;s1</title>\n",
       "<path fill=\"none\" stroke=\"blue\" stroke-dasharray=\"5,2\" d=\"M291.117,-179.863C312.764,-179.752 344.514,-179.589 374.619,-179.435\"/>\n",
       "<polygon fill=\"blue\" stroke=\"blue\" points=\"374.766,-182.934 384.748,-179.383 374.73,-175.934 374.766,-182.934\"/>\n",
       "<text text-anchor=\"middle\" x=\"337.99\" y=\"-185.2\" font-family=\"Arial\" font-size=\"16.00\">p = 0.3</text>\n",
       "</g>\n",
       "<!-- s1&#45;a0 -->\n",
       "<g id=\"node8\" class=\"node\"><title>s1&#45;a0</title>\n",
       "<ellipse fill=\"lightpink\" stroke=\"lightpink\" cx=\"733.403\" cy=\"-139\" rx=\"27.6545\" ry=\"27.6545\"/>\n",
       "<text text-anchor=\"middle\" x=\"733.403\" y=\"-134\" font-family=\"Arial\" font-size=\"20.00\">a0</text>\n",
       "</g>\n",
       "<!-- s1&#45;&gt;s1&#45;a0 -->\n",
       "<g id=\"edge13\" class=\"edge\"><title>s1&#45;&gt;s1&#45;a0</title>\n",
       "<path fill=\"none\" stroke=\"red\" stroke-width=\"2\" d=\"M536.063,-177.878C580.683,-175.781 638.167,-170.558 687.825,-158 691.465,-157.08 695.19,-155.903 698.861,-154.587\"/>\n",
       "<polygon fill=\"red\" stroke=\"red\" stroke-width=\"2\" points=\"700.324,-157.773 708.352,-150.859 697.765,-151.257 700.324,-157.773\"/>\n",
       "</g>\n",
       "<!-- s1&#45;a1 -->\n",
       "<g id=\"node9\" class=\"node\"><title>s1&#45;a1</title>\n",
       "<ellipse fill=\"lightpink\" stroke=\"lightpink\" cx=\"733.403\" cy=\"-230\" rx=\"27.6545\" ry=\"27.6545\"/>\n",
       "<text text-anchor=\"middle\" x=\"733.403\" y=\"-225\" font-family=\"Arial\" font-size=\"20.00\">a1</text>\n",
       "</g>\n",
       "<!-- s1&#45;&gt;s1&#45;a1 -->\n",
       "<g id=\"edge17\" class=\"edge\"><title>s1&#45;&gt;s1&#45;a1</title>\n",
       "<path fill=\"none\" stroke=\"red\" stroke-width=\"2\" d=\"M535.832,-184.561C580.499,-189.116 638.109,-197.152 687.825,-211 691.442,-212.007 695.152,-213.241 698.814,-214.591\"/>\n",
       "<polygon fill=\"red\" stroke=\"red\" stroke-width=\"2\" points=\"697.708,-217.918 708.293,-218.362 700.295,-211.414 697.708,-217.918\"/>\n",
       "</g>\n",
       "<!-- s0&#45;a0&#45;&gt;s2 -->\n",
       "<g id=\"edge9\" class=\"edge\"><title>s0&#45;a0&#45;&gt;s2</title>\n",
       "<path fill=\"none\" stroke=\"blue\" stroke-dasharray=\"5,2\" d=\"M1178.38,-197.624C1155.75,-250.752 1095.28,-368 1002.4,-368 262.413,-368 262.413,-368 262.413,-368 211.612,-368 165.015,-334.847 131.168,-301.77\"/>\n",
       "<polygon fill=\"blue\" stroke=\"blue\" points=\"133.247,-298.898 123.71,-294.281 128.286,-303.837 133.247,-298.898\"/>\n",
       "<text text-anchor=\"middle\" x=\"620.825\" y=\"-373.2\" font-family=\"Arial\" font-size=\"16.00\">p = 0.5</text>\n",
       "</g>\n",
       "<!-- s0&#45;a0&#45;&gt;s0 -->\n",
       "<g id=\"edge10\" class=\"edge\"><title>s0&#45;a0&#45;&gt;s0</title>\n",
       "<path fill=\"none\" stroke=\"blue\" stroke-dasharray=\"5,2\" d=\"M1162.18,-167.348C1142.21,-163.805 1113.54,-158.72 1085.99,-153.831\"/>\n",
       "<polygon fill=\"blue\" stroke=\"blue\" points=\"1086.37,-150.343 1075.91,-152.042 1085.14,-157.236 1086.37,-150.343\"/>\n",
       "<text text-anchor=\"middle\" x=\"1119.32\" y=\"-170.2\" font-family=\"Arial\" font-size=\"16.00\">p = 0.5</text>\n",
       "</g>\n",
       "<!-- s0&#45;a1&#45;&gt;s2 -->\n",
       "<g id=\"edge12\" class=\"edge\"><title>s0&#45;a1&#45;&gt;s2</title>\n",
       "<path fill=\"none\" stroke=\"blue\" stroke-dasharray=\"5,2\" d=\"M1163.99,-39.0273C1128.96,-24.309 1062.08,-0 1002.4,-0 262.413,-0 262.413,-0 262.413,-0 181.574,-0 130.451,-86.4728 102.689,-154.731\"/>\n",
       "<polygon fill=\"blue\" stroke=\"blue\" points=\"99.3548,-153.645 98.9261,-164.231 105.863,-156.223 99.3548,-153.645\"/>\n",
       "<text text-anchor=\"middle\" x=\"620.825\" y=\"-5.2\" font-family=\"Arial\" font-size=\"16.00\">p = 1</text>\n",
       "</g>\n",
       "<!-- s1&#45;a0&#45;&gt;s2 -->\n",
       "<g id=\"edge14\" class=\"edge\"><title>s1&#45;a0&#45;&gt;s2</title>\n",
       "<path fill=\"none\" stroke=\"blue\" stroke-dasharray=\"5,2\" d=\"M724.542,-112.509C717.832,-95.0656 706.276,-73.5679 687.825,-63 614.701,-21.1156 388.711,-52.6866 308.99,-80 246.422,-101.436 184.679,-144.14 140.551,-179.456\"/>\n",
       "<polygon fill=\"blue\" stroke=\"blue\" points=\"138.09,-176.945 132.52,-185.957 142.494,-182.385 138.09,-176.945\"/>\n",
       "<text text-anchor=\"middle\" x=\"337.99\" y=\"-85.2\" font-family=\"Arial\" font-size=\"16.00\">p = 0.2</text>\n",
       "</g>\n",
       "<!-- s1&#45;a0&#45;&gt;s0 -->\n",
       "<g id=\"edge15\" class=\"edge\"><title>s1&#45;a0&#45;&gt;s0</title>\n",
       "<path fill=\"none\" stroke=\"blue\" stroke-dasharray=\"5,2\" d=\"M761.371,-139C797.293,-139 862.497,-139 915.739,-139\"/>\n",
       "<polygon fill=\"blue\" stroke=\"blue\" points=\"915.873,-142.5 925.873,-139 915.873,-135.5 915.873,-142.5\"/>\n",
       "<text text-anchor=\"middle\" x=\"843.48\" y=\"-144.2\" font-family=\"Arial\" font-size=\"16.00\">p = 0.7 &#160;reward =5</text>\n",
       "</g>\n",
       "<!-- s1&#45;a0&#45;&gt;s1 -->\n",
       "<g id=\"edge16\" class=\"edge\"><title>s1&#45;a0&#45;&gt;s1</title>\n",
       "<path fill=\"none\" stroke=\"blue\" stroke-dasharray=\"5,2\" d=\"M705.995,-134.768C670.802,-129.984 606.807,-124.278 553.825,-136 548.18,-137.249 542.471,-138.88 536.805,-140.774\"/>\n",
       "<polygon fill=\"blue\" stroke=\"blue\" points=\"535.551,-137.506 527.331,-144.191 537.925,-144.091 535.551,-137.506\"/>\n",
       "<text text-anchor=\"middle\" x=\"620.825\" y=\"-141.2\" font-family=\"Arial\" font-size=\"16.00\">p = 0.1</text>\n",
       "</g>\n",
       "<!-- s1&#45;a1&#45;&gt;s2 -->\n",
       "<g id=\"edge18\" class=\"edge\"><title>s1&#45;a1&#45;&gt;s2</title>\n",
       "<path fill=\"none\" stroke=\"blue\" stroke-dasharray=\"5,2\" d=\"M708.353,-241.862C701.832,-244.629 694.677,-247.27 687.825,-249 622.049,-265.612 603.595,-259.886 535.825,-263 404.663,-269.028 252.578,-256.19 160.485,-246.224\"/>\n",
       "<polygon fill=\"blue\" stroke=\"blue\" points=\"160.707,-242.727 150.385,-245.116 159.944,-249.685 160.707,-242.727\"/>\n",
       "<text text-anchor=\"middle\" x=\"337.99\" y=\"-268.2\" font-family=\"Arial\" font-size=\"16.00\">p = 0.05</text>\n",
       "</g>\n",
       "<!-- s1&#45;a1&#45;&gt;s1 -->\n",
       "<g id=\"edge19\" class=\"edge\"><title>s1&#45;a1&#45;&gt;s1</title>\n",
       "<path fill=\"none\" stroke=\"blue\" stroke-dasharray=\"5,2\" d=\"M705.827,-228.239C670.719,-225.57 607.099,-219.54 553.825,-208 549.961,-207.163 546.026,-206.235 542.067,-205.24\"/>\n",
       "<polygon fill=\"blue\" stroke=\"blue\" points=\"542.764,-201.804 532.202,-202.641 540.981,-208.573 542.764,-201.804\"/>\n",
       "<text text-anchor=\"middle\" x=\"620.825\" y=\"-232.2\" font-family=\"Arial\" font-size=\"16.00\">p = 0.95</text>\n",
       "</g>\n",
       "</g>\n",
       "</svg>\n"
      ],
      "text/plain": [
       "<graphviz.dot.Digraph at 0x7efbd5279e80>"
      ]
     },
     "metadata": {},
     "output_type": "display_data"
    }
   ],
   "source": [
    "if has_graphviz:\n",
    "    display(plot_graph_with_state_values(mdp, state_values))"
   ]
  },
  {
   "cell_type": "code",
   "execution_count": 22,
   "metadata": {},
   "outputs": [
    {
     "name": "stdout",
     "output_type": "stream",
     "text": [
      "Final state values: {'s2': 4.202140275227049, 's0': 3.7810348735476405, 's1': 7.294006423867229}\n"
     ]
    }
   ],
   "source": [
    "print(\"Final state values:\", state_values)\n",
    "\n",
    "assert abs(state_values['s0'] - 3.781) < 0.01\n",
    "assert abs(state_values['s1'] - 7.294) < 0.01\n",
    "assert abs(state_values['s2'] - 4.202) < 0.01"
   ]
  },
  {
   "cell_type": "markdown",
   "metadata": {},
   "source": [
    "Now let's use those $V^{*}(s)$ to find optimal actions in each state\n",
    "\n",
    " $$\\pi^*(s) = argmax_a \\sum_{s'} P(s' | s,a) \\cdot [ r(s,a,s') + \\gamma V_{i}(s')] = argmax_a Q_i(s,a)$$\n",
    " \n",
    "The only difference vs V(s) is that here we take not max but argmax: find action such with maximum Q(s,a)."
   ]
  },
  {
   "cell_type": "code",
   "execution_count": 20,
   "metadata": {},
   "outputs": [],
   "source": [
    "def get_optimal_action(mdp, state_values, state, gamma=0.9):\n",
    "    \"\"\" Finds optimal action using formula above. \"\"\"\n",
    "    if mdp.is_terminal(state):\n",
    "        return None\n",
    "\n",
    "    pi = np.argmax(list(map(lambda action: get_action_value(mdp, state_values, state, action, gamma), mdp.get_possible_actions(state))))\n",
    "\n",
    "    return mdp.get_possible_actions(state)[pi]"
   ]
  },
  {
   "cell_type": "code",
   "execution_count": 28,
   "metadata": {},
   "outputs": [],
   "source": [
    "assert get_optimal_action(mdp, state_values, 's0', gamma) == 'a1'\n",
    "assert get_optimal_action(mdp, state_values, 's1', gamma) == 'a0'\n",
    "assert get_optimal_action(mdp, state_values, 's2', gamma) == 'a1'\n",
    "\n",
    "assert get_optimal_action(mdp, {'s0': -1e10, 's1': 0, 's2': -2e10}, 's0', 0.9) == 'a0', \\\n",
    "    \"Please ensure that you handle negative Q-values of arbitrary magnitude correctly\"\n",
    "assert get_optimal_action(mdp, {'s0': -2e10, 's1': 0, 's2': -1e10}, 's0', 0.9) == 'a1', \\\n",
    "    \"Please ensure that you handle negative Q-values of arbitrary magnitude correctly\""
   ]
  },
  {
   "cell_type": "code",
   "execution_count": 29,
   "metadata": {},
   "outputs": [
    {
     "data": {
      "image/svg+xml": [
       "<?xml version=\"1.0\" encoding=\"UTF-8\" standalone=\"no\"?>\n",
       "<!DOCTYPE svg PUBLIC \"-//W3C//DTD SVG 1.1//EN\"\n",
       " \"http://www.w3.org/Graphics/SVG/1.1/DTD/svg11.dtd\">\n",
       "<!-- Generated by graphviz version 2.38.0 (20140413.2041)\n",
       " -->\n",
       "<!-- Title: MDP Pages: 1 -->\n",
       "<svg width=\"720pt\" height=\"243pt\"\n",
       " viewBox=\"0.00 0.00 720.00 243.34\" xmlns=\"http://www.w3.org/2000/svg\" xmlns:xlink=\"http://www.w3.org/1999/xlink\">\n",
       "<g id=\"graph0\" class=\"graph\" transform=\"scale(0.58777 0.58777) rotate(0) translate(4 410)\">\n",
       "<title>MDP</title>\n",
       "<polygon fill=\"white\" stroke=\"none\" points=\"-4,4 -4,-410 1220.97,-410 1220.97,4 -4,4\"/>\n",
       "<!-- s2 -->\n",
       "<g id=\"node1\" class=\"node\"><title>s2</title>\n",
       "<ellipse fill=\"#85ff75\" stroke=\"#85ff75\" cx=\"75.4178\" cy=\"-145\" rx=\"71.34\" ry=\"71.34\"/>\n",
       "<ellipse fill=\"none\" stroke=\"#85ff75\" cx=\"75.4178\" cy=\"-145\" rx=\"75.3357\" ry=\"75.3357\"/>\n",
       "<text text-anchor=\"middle\" x=\"75.4178\" y=\"-151.8\" font-family=\"Arial\" font-size=\"24.00\">s2</text>\n",
       "<text text-anchor=\"middle\" x=\"75.4178\" y=\"-125.8\" font-family=\"Arial\" font-size=\"24.00\">V =4.20</text>\n",
       "</g>\n",
       "<!-- s2&#45;a0 -->\n",
       "<g id=\"node2\" class=\"node\"><title>s2&#45;a0</title>\n",
       "<ellipse fill=\"lightpink\" stroke=\"lightpink\" cx=\"263.413\" cy=\"-56\" rx=\"27.6545\" ry=\"27.6545\"/>\n",
       "<text text-anchor=\"middle\" x=\"263.413\" y=\"-51\" font-family=\"Arial\" font-size=\"20.00\">a0</text>\n",
       "</g>\n",
       "<!-- s2&#45;&gt;s2&#45;a0 -->\n",
       "<g id=\"edge1\" class=\"edge\"><title>s2&#45;&gt;s2&#45;a0</title>\n",
       "<path fill=\"none\" stroke=\"red\" stroke-width=\"2\" d=\"M125.545,-88.3123C138.415,-76.9498 153.13,-66.5142 168.836,-60 186.665,-52.6051 208.079,-51.2079 225.921,-51.8364\"/>\n",
       "<polygon fill=\"red\" stroke=\"red\" stroke-width=\"2\" points=\"225.775,-55.3337 235.958,-52.4104 226.175,-48.3451 225.775,-55.3337\"/>\n",
       "</g>\n",
       "<!-- s2&#45;a1 -->\n",
       "<g id=\"node4\" class=\"node\"><title>s2&#45;a1</title>\n",
       "<ellipse fill=\"lightpink\" stroke=\"lightpink\" cx=\"263.413\" cy=\"-187\" rx=\"27.6545\" ry=\"27.6545\"/>\n",
       "<text text-anchor=\"middle\" x=\"263.413\" y=\"-182\" font-family=\"Arial\" font-size=\"20.00\">a1</text>\n",
       "</g>\n",
       "<!-- s2&#45;&gt;s2&#45;a1 -->\n",
       "<g id=\"edge4\" class=\"edge\"><title>s2&#45;&gt;s2&#45;a1</title>\n",
       "<path fill=\"none\" stroke=\"red\" stroke-width=\"2\" d=\"M150.195,-155.04C176.987,-160.723 206.005,-167.686 227.82,-173.798\"/>\n",
       "<polygon fill=\"red\" stroke=\"red\" stroke-width=\"2\" points=\"227.026,-177.212 237.605,-176.63 228.972,-170.488 227.026,-177.212\"/>\n",
       "</g>\n",
       "<!-- s2&#45;&gt;s2&#45;a1 -->\n",
       "<g id=\"edge20\" class=\"edge\"><title>s2&#45;&gt;s2&#45;a1</title>\n",
       "<path fill=\"none\" stroke=\"green\" stroke-width=\"6\" d=\"M147.531,-167.639C174.09,-174.054 203.175,-180.266 225.434,-184.165\"/>\n",
       "<polygon fill=\"green\" stroke=\"green\" stroke-width=\"6\" points=\"224.732,-189.371 235.459,-185.835 226.458,-179.013 224.732,-189.371\"/>\n",
       "</g>\n",
       "<!-- s2&#45;a0&#45;&gt;s2 -->\n",
       "<g id=\"edge2\" class=\"edge\"><title>s2&#45;a0&#45;&gt;s2</title>\n",
       "<path fill=\"none\" stroke=\"blue\" stroke-dasharray=\"5,2\" d=\"M236.136,-60.1069C216.89,-63.7347 190.464,-70.0283 168.836,-80 160.529,-83.83 152.181,-88.4215 144.084,-93.3699\"/>\n",
       "<polygon fill=\"blue\" stroke=\"blue\" points=\"141.988,-90.5548 135.41,-98.8605 145.731,-96.4695 141.988,-90.5548\"/>\n",
       "<text text-anchor=\"middle\" x=\"193.336\" y=\"-85.2\" font-family=\"Arial\" font-size=\"16.00\">p = 0.6</text>\n",
       "</g>\n",
       "<!-- s0 -->\n",
       "<g id=\"node3\" class=\"node\"><title>s0</title>\n",
       "<ellipse fill=\"#85ff75\" stroke=\"#85ff75\" cx=\"1001.4\" cy=\"-144\" rx=\"71.34\" ry=\"71.34\"/>\n",
       "<ellipse fill=\"none\" stroke=\"#85ff75\" cx=\"1001.4\" cy=\"-144\" rx=\"75.3357\" ry=\"75.3357\"/>\n",
       "<text text-anchor=\"middle\" x=\"1001.4\" y=\"-150.8\" font-family=\"Arial\" font-size=\"24.00\">s0</text>\n",
       "<text text-anchor=\"middle\" x=\"1001.4\" y=\"-124.8\" font-family=\"Arial\" font-size=\"24.00\">V =3.78</text>\n",
       "</g>\n",
       "<!-- s2&#45;a0&#45;&gt;s0 -->\n",
       "<g id=\"edge3\" class=\"edge\"><title>s2&#45;a0&#45;&gt;s0</title>\n",
       "<path fill=\"none\" stroke=\"blue\" stroke-dasharray=\"5,2\" d=\"M291.304,-55.6053C358.495,-54.9657 539.003,-55.3838 687.825,-75 767.057,-85.4435 855.907,-105.927 918.567,-121.876\"/>\n",
       "<polygon fill=\"blue\" stroke=\"blue\" points=\"917.838,-125.302 928.394,-124.394 919.576,-118.521 917.838,-125.302\"/>\n",
       "<text text-anchor=\"middle\" x=\"620.825\" y=\"-80.2\" font-family=\"Arial\" font-size=\"16.00\">p = 0.4</text>\n",
       "</g>\n",
       "<!-- s0&#45;a0 -->\n",
       "<g id=\"node6\" class=\"node\"><title>s0&#45;a0</title>\n",
       "<ellipse fill=\"lightpink\" stroke=\"lightpink\" cx=\"1189.39\" cy=\"-197\" rx=\"27.6545\" ry=\"27.6545\"/>\n",
       "<text text-anchor=\"middle\" x=\"1189.39\" y=\"-192\" font-family=\"Arial\" font-size=\"20.00\">a0</text>\n",
       "</g>\n",
       "<!-- s0&#45;&gt;s0&#45;a0 -->\n",
       "<g id=\"edge8\" class=\"edge\"><title>s0&#45;&gt;s0&#45;a0</title>\n",
       "<path fill=\"none\" stroke=\"red\" stroke-width=\"2\" d=\"M1075.92,-157.456C1098.02,-162.349 1122.15,-168.547 1143.82,-176 1147.53,-177.279 1151.35,-178.775 1155.11,-180.369\"/>\n",
       "<polygon fill=\"red\" stroke=\"red\" stroke-width=\"2\" points=\"1153.71,-183.575 1164.27,-184.466 1156.57,-177.186 1153.71,-183.575\"/>\n",
       "</g>\n",
       "<!-- s0&#45;a1 -->\n",
       "<g id=\"node7\" class=\"node\"><title>s0&#45;a1</title>\n",
       "<ellipse fill=\"lightpink\" stroke=\"lightpink\" cx=\"1189.39\" cy=\"-124\" rx=\"27.6545\" ry=\"27.6545\"/>\n",
       "<text text-anchor=\"middle\" x=\"1189.39\" y=\"-119\" font-family=\"Arial\" font-size=\"20.00\">a1</text>\n",
       "</g>\n",
       "<!-- s0&#45;&gt;s0&#45;a1 -->\n",
       "<g id=\"edge11\" class=\"edge\"><title>s0&#45;&gt;s0&#45;a1</title>\n",
       "<path fill=\"none\" stroke=\"red\" stroke-width=\"2\" d=\"M1075.64,-129.511C1101.67,-126.345 1129.87,-123.681 1151.56,-122.453\"/>\n",
       "<polygon fill=\"red\" stroke=\"red\" stroke-width=\"2\" points=\"1151.82,-125.944 1161.64,-121.969 1151.49,-118.952 1151.82,-125.944\"/>\n",
       "</g>\n",
       "<!-- s0&#45;&gt;s0&#45;a1 -->\n",
       "<g id=\"edge21\" class=\"edge\"><title>s0&#45;&gt;s0&#45;a1</title>\n",
       "<path fill=\"none\" stroke=\"green\" stroke-width=\"6\" d=\"M1076.98,-142.611C1103.03,-140.151 1131.1,-136.742 1152.54,-133.312\"/>\n",
       "<polygon fill=\"green\" stroke=\"green\" stroke-width=\"6\" points=\"1153.51,-138.473 1162.5,-131.631 1151.77,-128.119 1153.51,-138.473\"/>\n",
       "</g>\n",
       "<!-- s2&#45;a1&#45;&gt;s2 -->\n",
       "<g id=\"edge5\" class=\"edge\"><title>s2&#45;a1&#45;&gt;s2</title>\n",
       "<path fill=\"none\" stroke=\"blue\" stroke-dasharray=\"5,2\" d=\"M246.156,-165.315C238.576,-156.99 228.804,-148.428 217.836,-144 199.902,-136.76 179.616,-134.07 160.123,-133.816\"/>\n",
       "<polygon fill=\"blue\" stroke=\"blue\" points=\"159.991,-130.317 150.018,-133.894 160.044,-137.316 159.991,-130.317\"/>\n",
       "<text text-anchor=\"middle\" x=\"193.336\" y=\"-149.2\" font-family=\"Arial\" font-size=\"16.00\">p = 0.4</text>\n",
       "</g>\n",
       "<!-- s2&#45;a1&#45;&gt;s0 -->\n",
       "<g id=\"edge6\" class=\"edge\"><title>s2&#45;a1&#45;&gt;s0</title>\n",
       "<path fill=\"none\" stroke=\"blue\" stroke-dasharray=\"5,2\" d=\"M290.559,-180.493C314.851,-174.759 352.12,-166.752 384.99,-163 573.579,-141.47 796.642,-140.667 915.614,-142.195\"/>\n",
       "<polygon fill=\"blue\" stroke=\"blue\" points=\"915.7,-145.697 925.748,-142.334 915.797,-138.697 915.7,-145.697\"/>\n",
       "<text text-anchor=\"middle\" x=\"620.825\" y=\"-154.2\" font-family=\"Arial\" font-size=\"16.00\">p = 0.3 &#160;reward =&#45;1</text>\n",
       "</g>\n",
       "<!-- s1 -->\n",
       "<g id=\"node5\" class=\"node\"><title>s1</title>\n",
       "<ellipse fill=\"#85ff75\" stroke=\"#85ff75\" cx=\"460.408\" cy=\"-247\" rx=\"71.34\" ry=\"71.34\"/>\n",
       "<ellipse fill=\"none\" stroke=\"#85ff75\" cx=\"460.408\" cy=\"-247\" rx=\"75.3357\" ry=\"75.3357\"/>\n",
       "<text text-anchor=\"middle\" x=\"460.408\" y=\"-253.8\" font-family=\"Arial\" font-size=\"24.00\">s1</text>\n",
       "<text text-anchor=\"middle\" x=\"460.408\" y=\"-227.8\" font-family=\"Arial\" font-size=\"24.00\">V =7.29</text>\n",
       "</g>\n",
       "<!-- s2&#45;a1&#45;&gt;s1 -->\n",
       "<g id=\"edge7\" class=\"edge\"><title>s2&#45;a1&#45;&gt;s1</title>\n",
       "<path fill=\"none\" stroke=\"blue\" stroke-dasharray=\"5,2\" d=\"M289.905,-194.844C312.452,-201.782 346.607,-212.291 378.363,-222.063\"/>\n",
       "<polygon fill=\"blue\" stroke=\"blue\" points=\"377.539,-225.471 388.126,-225.067 379.598,-218.78 377.539,-225.471\"/>\n",
       "<text text-anchor=\"middle\" x=\"337.99\" y=\"-224.2\" font-family=\"Arial\" font-size=\"16.00\">p = 0.3</text>\n",
       "</g>\n",
       "<!-- s1&#45;a0 -->\n",
       "<g id=\"node8\" class=\"node\"><title>s1&#45;a0</title>\n",
       "<ellipse fill=\"lightpink\" stroke=\"lightpink\" cx=\"733.403\" cy=\"-203\" rx=\"27.6545\" ry=\"27.6545\"/>\n",
       "<text text-anchor=\"middle\" x=\"733.403\" y=\"-198\" font-family=\"Arial\" font-size=\"20.00\">a0</text>\n",
       "</g>\n",
       "<!-- s1&#45;&gt;s1&#45;a0 -->\n",
       "<g id=\"edge13\" class=\"edge\"><title>s1&#45;&gt;s1&#45;a0</title>\n",
       "<path fill=\"none\" stroke=\"red\" stroke-width=\"2\" d=\"M531.405,-221.406C538.953,-219.783 546.535,-218.295 553.825,-217 602.707,-208.319 659.67,-201.557 695.873,-199.823\"/>\n",
       "<polygon fill=\"red\" stroke=\"red\" stroke-width=\"2\" points=\"696.091,-203.317 705.959,-199.459 695.839,-196.322 696.091,-203.317\"/>\n",
       "</g>\n",
       "<!-- s1&#45;&gt;s1&#45;a0 -->\n",
       "<g id=\"edge22\" class=\"edge\"><title>s1&#45;&gt;s1&#45;a0</title>\n",
       "<path fill=\"none\" stroke=\"green\" stroke-width=\"6\" d=\"M535.432,-238.499C541.639,-237.26 547.831,-236.065 553.825,-235 603.267,-226.219 660.977,-219.402 697.109,-213.318\"/>\n",
       "<polygon fill=\"green\" stroke=\"green\" stroke-width=\"6\" points=\"698.221,-218.452 707.15,-211.536 696.386,-208.114 698.221,-218.452\"/>\n",
       "</g>\n",
       "<!-- s1&#45;a1 -->\n",
       "<g id=\"node9\" class=\"node\"><title>s1&#45;a1</title>\n",
       "<ellipse fill=\"lightpink\" stroke=\"lightpink\" cx=\"733.403\" cy=\"-319\" rx=\"27.6545\" ry=\"27.6545\"/>\n",
       "<text text-anchor=\"middle\" x=\"733.403\" y=\"-314\" font-family=\"Arial\" font-size=\"20.00\">a1</text>\n",
       "</g>\n",
       "<!-- s1&#45;&gt;s1&#45;a1 -->\n",
       "<g id=\"edge17\" class=\"edge\"><title>s1&#45;&gt;s1&#45;a1</title>\n",
       "<path fill=\"none\" stroke=\"red\" stroke-width=\"2\" d=\"M521.999,-290.661C532.225,-296.35 543.034,-301.432 553.825,-305 600.853,-320.55 658.49,-322.17 695.329,-321.174\"/>\n",
       "<polygon fill=\"red\" stroke=\"red\" stroke-width=\"2\" points=\"695.73,-324.662 705.601,-320.814 695.484,-317.667 695.73,-324.662\"/>\n",
       "</g>\n",
       "<!-- s0&#45;a0&#45;&gt;s2 -->\n",
       "<g id=\"edge9\" class=\"edge\"><title>s0&#45;a0&#45;&gt;s2</title>\n",
       "<path fill=\"none\" stroke=\"blue\" stroke-dasharray=\"5,2\" d=\"M1178.01,-222.363C1154.88,-274.319 1093.81,-388 1002.4,-388 262.413,-388 262.413,-388 262.413,-388 179.282,-388 128.288,-297.215 101.201,-226.626\"/>\n",
       "<polygon fill=\"blue\" stroke=\"blue\" points=\"104.477,-225.392 97.697,-217.25 97.9198,-227.843 104.477,-225.392\"/>\n",
       "<text text-anchor=\"middle\" x=\"620.825\" y=\"-393.2\" font-family=\"Arial\" font-size=\"16.00\">p = 0.5</text>\n",
       "</g>\n",
       "<!-- s0&#45;a0&#45;&gt;s0 -->\n",
       "<g id=\"edge10\" class=\"edge\"><title>s0&#45;a0&#45;&gt;s0</title>\n",
       "<path fill=\"none\" stroke=\"blue\" stroke-dasharray=\"5,2\" d=\"M1162.04,-191.064C1143.22,-186.692 1117.34,-180.415 1094.82,-174 1090.85,-172.869 1086.79,-171.681 1082.7,-170.456\"/>\n",
       "<polygon fill=\"blue\" stroke=\"blue\" points=\"1083.71,-167.106 1073.13,-167.541 1081.68,-173.802 1083.71,-167.106\"/>\n",
       "<text text-anchor=\"middle\" x=\"1119.32\" y=\"-192.2\" font-family=\"Arial\" font-size=\"16.00\">p = 0.5</text>\n",
       "</g>\n",
       "<!-- s0&#45;a1&#45;&gt;s2 -->\n",
       "<g id=\"edge12\" class=\"edge\"><title>s0&#45;a1&#45;&gt;s2</title>\n",
       "<path fill=\"none\" stroke=\"blue\" stroke-dasharray=\"5,2\" d=\"M1171.68,-102.684C1141.82,-67.2302 1075.55,-0 1002.4,-0 262.413,-0 262.413,-0 262.413,-0 208.324,-0 160.53,-38.6115 126.938,-75.9852\"/>\n",
       "<polygon fill=\"blue\" stroke=\"blue\" points=\"123.939,-74.0968 119.988,-83.9272 129.207,-78.7066 123.939,-74.0968\"/>\n",
       "<text text-anchor=\"middle\" x=\"620.825\" y=\"-5.2\" font-family=\"Arial\" font-size=\"16.00\">p = 1</text>\n",
       "</g>\n",
       "<!-- s1&#45;a0&#45;&gt;s2 -->\n",
       "<g id=\"edge14\" class=\"edge\"><title>s1&#45;a0&#45;&gt;s2</title>\n",
       "<path fill=\"none\" stroke=\"blue\" stroke-dasharray=\"5,2\" d=\"M721.653,-177.842C714.299,-164.024 703.1,-148.09 687.825,-140 503.199,-42.215 426.749,-133 217.836,-131 196.059,-130.792 190.552,-129.364 168.836,-131 165.953,-131.217 163.024,-131.472 160.07,-131.758\"/>\n",
       "<polygon fill=\"blue\" stroke=\"blue\" points=\"159.524,-128.296 149.954,-132.841 160.27,-135.256 159.524,-128.296\"/>\n",
       "<text text-anchor=\"middle\" x=\"337.99\" y=\"-131.2\" font-family=\"Arial\" font-size=\"16.00\">p = 0.2</text>\n",
       "</g>\n",
       "<!-- s1&#45;a0&#45;&gt;s0 -->\n",
       "<g id=\"edge15\" class=\"edge\"><title>s1&#45;a0&#45;&gt;s0</title>\n",
       "<path fill=\"none\" stroke=\"blue\" stroke-dasharray=\"5,2\" d=\"M760.392,-197.235C796.511,-189.224 863.543,-174.356 917.604,-162.364\"/>\n",
       "<polygon fill=\"blue\" stroke=\"blue\" points=\"918.532,-165.744 927.537,-160.161 917.016,-158.91 918.532,-165.744\"/>\n",
       "<text text-anchor=\"middle\" x=\"843.48\" y=\"-199.2\" font-family=\"Arial\" font-size=\"16.00\">p = 0.7 &#160;reward =5</text>\n",
       "</g>\n",
       "<!-- s1&#45;a0&#45;&gt;s1 -->\n",
       "<g id=\"edge16\" class=\"edge\"><title>s1&#45;a0&#45;&gt;s1</title>\n",
       "<path fill=\"none\" stroke=\"blue\" stroke-dasharray=\"5,2\" d=\"M708.39,-215.438C701.868,-218.351 694.704,-221.143 687.825,-223 641.896,-235.399 589.11,-241.444 546.065,-244.369\"/>\n",
       "<polygon fill=\"blue\" stroke=\"blue\" points=\"545.667,-240.888 535.908,-245.015 546.11,-247.874 545.667,-240.888\"/>\n",
       "<text text-anchor=\"middle\" x=\"620.825\" y=\"-249.2\" font-family=\"Arial\" font-size=\"16.00\">p = 0.1</text>\n",
       "</g>\n",
       "<!-- s1&#45;a1&#45;&gt;s2 -->\n",
       "<g id=\"edge18\" class=\"edge\"><title>s1&#45;a1&#45;&gt;s2</title>\n",
       "<path fill=\"none\" stroke=\"blue\" stroke-dasharray=\"5,2\" d=\"M706.497,-325.114C647.91,-337.824 501.279,-363.338 384.99,-331 293.186,-305.471 201.376,-244.463 142.074,-199.24\"/>\n",
       "<polygon fill=\"blue\" stroke=\"blue\" points=\"143.985,-196.294 133.925,-192.969 139.716,-201.841 143.985,-196.294\"/>\n",
       "<text text-anchor=\"middle\" x=\"337.99\" y=\"-330.2\" font-family=\"Arial\" font-size=\"16.00\">p = 0.05</text>\n",
       "</g>\n",
       "<!-- s1&#45;a1&#45;&gt;s1 -->\n",
       "<g id=\"edge19\" class=\"edge\"><title>s1&#45;a1&#45;&gt;s1</title>\n",
       "<path fill=\"none\" stroke=\"blue\" stroke-dasharray=\"5,2\" d=\"M713.08,-299.606C705.746,-293.327 696.948,-286.966 687.825,-283 632.662,-259.018 613.195,-273.665 553.825,-264 550.823,-263.511 547.767,-263.003 544.682,-262.482\"/>\n",
       "<polygon fill=\"blue\" stroke=\"blue\" points=\"545.207,-259.021 534.759,-260.777 544.022,-265.92 545.207,-259.021\"/>\n",
       "<text text-anchor=\"middle\" x=\"620.825\" y=\"-288.2\" font-family=\"Arial\" font-size=\"16.00\">p = 0.95</text>\n",
       "</g>\n",
       "</g>\n",
       "</svg>\n"
      ],
      "text/plain": [
       "<graphviz.dot.Digraph at 0x7efbdffe2860>"
      ]
     },
     "metadata": {},
     "output_type": "display_data"
    }
   ],
   "source": [
    "if has_graphviz:\n",
    "    try:\n",
    "        display(plot_graph_optimal_strategy_and_state_values(mdp, state_values))\n",
    "    except ImportError:\n",
    "        raise ImportError(\"Run the cell that starts with \\\"%%writefile mdp_get_action_value.py\\\"\")"
   ]
  },
  {
   "cell_type": "code",
   "execution_count": 30,
   "metadata": {},
   "outputs": [
    {
     "name": "stdout",
     "output_type": "stream",
     "text": [
      "average reward:  0.4893\n"
     ]
    }
   ],
   "source": [
    "# Measure agent's average reward\n",
    "\n",
    "s = mdp.reset()\n",
    "rewards = []\n",
    "for _ in range(10000):\n",
    "    s, r, done, _ = mdp.step(get_optimal_action(mdp, state_values, s, gamma))\n",
    "    rewards.append(r)\n",
    "\n",
    "print(\"average reward: \", np.mean(rewards))\n",
    "\n",
    "assert(0.40 < np.mean(rewards) < 0.55)"
   ]
  },
  {
   "cell_type": "markdown",
   "metadata": {},
   "source": [
    "### Frozen lake"
   ]
  },
  {
   "cell_type": "code",
   "execution_count": 31,
   "metadata": {},
   "outputs": [
    {
     "name": "stdout",
     "output_type": "stream",
     "text": [
      "*FFF\n",
      "FHFH\n",
      "FFFH\n",
      "HFFG\n",
      "\n"
     ]
    }
   ],
   "source": [
    "from mdp import FrozenLakeEnv\n",
    "mdp = FrozenLakeEnv(slip_chance=0)\n",
    "\n",
    "mdp.render()"
   ]
  },
  {
   "cell_type": "code",
   "execution_count": 21,
   "metadata": {},
   "outputs": [],
   "source": [
    "def value_iteration(mdp, state_values=None, gamma=0.9, num_iter=1000, min_difference=1e-5):\n",
    "    \"\"\" performs num_iter value iteration steps starting from state_values. Same as before but in a function \"\"\"\n",
    "    state_values = state_values or {s: 0 for s in mdp.get_all_states()}\n",
    "    for i in range(num_iter):\n",
    "\n",
    "        # Compute new state values using the functions you defined above. It must be a dict {state : new_V(state)}\n",
    "        new_state_values = {state: get_new_state_value(mdp, state_values, state, gamma) for state in mdp.get_all_states()}\n",
    "\n",
    "        assert isinstance(new_state_values, dict)\n",
    "\n",
    "        # Compute difference\n",
    "        diff = max(abs(new_state_values[s] - state_values[s])\n",
    "                   for s in mdp.get_all_states())\n",
    "\n",
    "        #print(\"iter %4i   |   diff: %6.5f   |   V(start): %.3f \" %\n",
    "        #      (i, diff, new_state_values[mdp._initial_state]))\n",
    "\n",
    "        state_values = new_state_values\n",
    "        if diff < min_difference:\n",
    "            break\n",
    "\n",
    "    return state_values"
   ]
  },
  {
   "cell_type": "code",
   "execution_count": 33,
   "metadata": {},
   "outputs": [
    {
     "name": "stdout",
     "output_type": "stream",
     "text": [
      "iter    0   |   diff: 1.00000   |   V(start): 0.000 \n",
      "iter    1   |   diff: 0.90000   |   V(start): 0.000 \n",
      "iter    2   |   diff: 0.81000   |   V(start): 0.000 \n",
      "iter    3   |   diff: 0.72900   |   V(start): 0.000 \n",
      "iter    4   |   diff: 0.65610   |   V(start): 0.000 \n",
      "iter    5   |   diff: 0.59049   |   V(start): 0.590 \n",
      "iter    6   |   diff: 0.00000   |   V(start): 0.590 \n"
     ]
    }
   ],
   "source": [
    "state_values = value_iteration(mdp)"
   ]
  },
  {
   "cell_type": "code",
   "execution_count": 34,
   "metadata": {},
   "outputs": [
    {
     "name": "stdout",
     "output_type": "stream",
     "text": [
      "*FFF\n",
      "FHFH\n",
      "FFFH\n",
      "HFFG\n",
      "\n",
      "right\n",
      "\n",
      "S*FF\n",
      "FHFH\n",
      "FFFH\n",
      "HFFG\n",
      "\n",
      "right\n",
      "\n",
      "SF*F\n",
      "FHFH\n",
      "FFFH\n",
      "HFFG\n",
      "\n",
      "down\n",
      "\n",
      "SFFF\n",
      "FH*H\n",
      "FFFH\n",
      "HFFG\n",
      "\n",
      "down\n",
      "\n",
      "SFFF\n",
      "FHFH\n",
      "FF*H\n",
      "HFFG\n",
      "\n",
      "down\n",
      "\n",
      "SFFF\n",
      "FHFH\n",
      "FFFH\n",
      "HF*G\n",
      "\n",
      "right\n",
      "\n",
      "SFFF\n",
      "FHFH\n",
      "FFFH\n",
      "HFF*\n",
      "\n"
     ]
    }
   ],
   "source": [
    "s = mdp.reset()\n",
    "mdp.render()\n",
    "for t in range(100):\n",
    "    a = get_optimal_action(mdp, state_values, s, gamma)\n",
    "    print(a, end='\\n\\n')\n",
    "    s, r, done, _ = mdp.step(a)\n",
    "    mdp.render()\n",
    "    if done:\n",
    "        break"
   ]
  },
  {
   "cell_type": "markdown",
   "metadata": {},
   "source": [
    "### Let's visualize!\n",
    "\n",
    "It's usually interesting to see what your algorithm actually learned under the hood. To do so, we'll plot state value functions and optimal actions at each VI step."
   ]
  },
  {
   "cell_type": "code",
   "execution_count": 35,
   "metadata": {},
   "outputs": [],
   "source": [
    "import matplotlib.pyplot as plt\n",
    "%matplotlib inline\n",
    "\n",
    "\n",
    "def draw_policy(mdp, state_values):\n",
    "    plt.figure(figsize=(3, 3))\n",
    "    h, w = mdp.desc.shape\n",
    "    states = sorted(mdp.get_all_states())\n",
    "    V = np.array([state_values[s] for s in states])\n",
    "    Pi = {s: get_optimal_action(mdp, state_values, s, gamma) for s in states}\n",
    "    plt.imshow(V.reshape(w, h), cmap='gray', interpolation='none', clim=(0, 1))\n",
    "    ax = plt.gca()\n",
    "    ax.set_xticks(np.arange(h)-.5)\n",
    "    ax.set_yticks(np.arange(w)-.5)\n",
    "    ax.set_xticklabels([])\n",
    "    ax.set_yticklabels([])\n",
    "    Y, X = np.mgrid[0:4, 0:4]\n",
    "    a2uv = {'left': (-1, 0), 'down': (0, -1), 'right': (1, 0), 'up': (0, 1)}\n",
    "    for y in range(h):\n",
    "        for x in range(w):\n",
    "            plt.text(x, y, str(mdp.desc[y, x].item()),\n",
    "                     color='g', size=12,  verticalalignment='center',\n",
    "                     horizontalalignment='center', fontweight='bold')\n",
    "            a = Pi[y, x]\n",
    "            if a is None:\n",
    "                continue\n",
    "            u, v = a2uv[a]\n",
    "            plt.arrow(x, y, u*.3, -v*.3, color='m',\n",
    "                      head_width=0.1, head_length=0.1)\n",
    "    plt.grid(color='b', lw=2, ls='-')\n",
    "    plt.show()"
   ]
  },
  {
   "cell_type": "code",
   "execution_count": 36,
   "metadata": {},
   "outputs": [
    {
     "name": "stdout",
     "output_type": "stream",
     "text": [
      "after iteration 0\n",
      "iter    0   |   diff: 1.00000   |   V(start): 0.000 \n"
     ]
    },
    {
     "data": {
      "image/png": "[encoded data removed]",
      "text/plain": [
       "<Figure size 216x216 with 1 Axes>"
      ]
     },
     "metadata": {
      "needs_background": "light"
     },
     "output_type": "display_data"
    },
    {
     "name": "stdout",
     "output_type": "stream",
     "text": [
      "after iteration 1\n",
      "iter    0   |   diff: 0.90000   |   V(start): 0.000 \n"
     ]
    },
    {
     "data": {
      "image/png": "[encoded data removed]",
      "text/plain": [
       "<Figure size 216x216 with 1 Axes>"
      ]
     },
     "metadata": {
      "needs_background": "light"
     },
     "output_type": "display_data"
    },
    {
     "name": "stdout",
     "output_type": "stream",
     "text": [
      "after iteration 2\n",
      "iter    0   |   diff: 0.81000   |   V(start): 0.000 \n"
     ]
    },
    {
     "data": {
      "image/png": "[encoded data removed]",
      "text/plain": [
       "<Figure size 216x216 with 1 Axes>"
      ]
     },
     "metadata": {
      "needs_background": "light"
     },
     "output_type": "display_data"
    },
    {
     "name": "stdout",
     "output_type": "stream",
     "text": [
      "after iteration 3\n",
      "iter    0   |   diff: 0.72900   |   V(start): 0.000 \n"
     ]
    },
    {
     "data": {
      "image/png": "[encoded data removed]",
      "text/plain": [
       "<Figure size 216x216 with 1 Axes>"
      ]
     },
     "metadata": {
      "needs_background": "light"
     },
     "output_type": "display_data"
    },
    {
     "name": "stdout",
     "output_type": "stream",
     "text": [
      "after iteration 4\n",
      "iter    0   |   diff: 0.65610   |   V(start): 0.000 \n"
     ]
    },
    {
     "data": {
      "image/png": "[encoded data removed]",
      "text/plain": [
       "<Figure size 216x216 with 1 Axes>"
      ]
     },
     "metadata": {
      "needs_background": "light"
     },
     "output_type": "display_data"
    },
    {
     "name": "stdout",
     "output_type": "stream",
     "text": [
      "after iteration 5\n",
      "iter    0   |   diff: 0.59049   |   V(start): 0.590 \n"
     ]
    },
    {
     "data": {
      "image/png": "[encoded data removed]",
      "text/plain": [
       "<Figure size 216x216 with 1 Axes>"
      ]
     },
     "metadata": {
      "needs_background": "light"
     },
     "output_type": "display_data"
    },
    {
     "name": "stdout",
     "output_type": "stream",
     "text": [
      "after iteration 6\n",
      "iter    0   |   diff: 0.00000   |   V(start): 0.590 \n"
     ]
    },
    {
     "data": {
      "image/png": "[encoded data removed]",
      "text/plain": [
       "<Figure size 216x216 with 1 Axes>"
      ]
     },
     "metadata": {
      "needs_background": "light"
     },
     "output_type": "display_data"
    },
    {
     "name": "stdout",
     "output_type": "stream",
     "text": [
      "after iteration 7\n",
      "iter    0   |   diff: 0.00000   |   V(start): 0.590 \n"
     ]
    },
    {
     "data": {
      "image/png": "[encoded data removed]",
      "text/plain": [
       "<Figure size 216x216 with 1 Axes>"
      ]
     },
     "metadata": {
      "needs_background": "light"
     },
     "output_type": "display_data"
    },
    {
     "name": "stdout",
     "output_type": "stream",
     "text": [
      "after iteration 8\n",
      "iter    0   |   diff: 0.00000   |   V(start): 0.590 \n"
     ]
    },
    {
     "data": {
      "image/png": "[encoded data removed]",
      "text/plain": [
       "<Figure size 216x216 with 1 Axes>"
      ]
     },
     "metadata": {
      "needs_background": "light"
     },
     "output_type": "display_data"
    },
    {
     "name": "stdout",
     "output_type": "stream",
     "text": [
      "after iteration 9\n",
      "iter    0   |   diff: 0.00000   |   V(start): 0.590 \n"
     ]
    },
    {
     "data": {
      "image/png": "[encoded data removed]",
      "text/plain": [
       "<Figure size 216x216 with 1 Axes>"
      ]
     },
     "metadata": {
      "needs_background": "light"
     },
     "output_type": "display_data"
    }
   ],
   "source": [
    "state_values = {s: 0 for s in mdp.get_all_states()}\n",
    "\n",
    "for i in range(10):\n",
    "    print(\"after iteration %i\" % i)\n",
    "    state_values = value_iteration(mdp, state_values, num_iter=1)\n",
    "    draw_policy(mdp, state_values)\n",
    "# please ignore iter 0 at each step"
   ]
  },
  {
   "cell_type": "code",
   "execution_count": 37,
   "metadata": {},
   "outputs": [
    {
     "name": "stdout",
     "output_type": "stream",
     "text": [
      "after iteration 29\n",
      "iter    0   |   diff: 0.00000   |   V(start): 0.198 \n"
     ]
    },
    {
     "data": {
      "image/png": "[encoded data removed]",
      "text/plain": [
       "<Figure size 216x216 with 1 Axes>"
      ]
     },
     "metadata": {
      "needs_background": "light"
     },
     "output_type": "display_data"
    }
   ],
   "source": [
    "from IPython.display import clear_output\n",
    "from time import sleep\n",
    "mdp = FrozenLakeEnv(map_name='8x8', slip_chance=0.1)\n",
    "state_values = {s: 0 for s in mdp.get_all_states()}\n",
    "\n",
    "for i in range(30):\n",
    "    clear_output(True)\n",
    "    print(\"after iteration %i\" % i)\n",
    "    state_values = value_iteration(mdp, state_values, num_iter=1)\n",
    "    draw_policy(mdp, state_values)\n",
    "    sleep(0.5)\n",
    "# please ignore iter 0 at each step"
   ]
  },
  {
   "cell_type": "markdown",
   "metadata": {},
   "source": [
    "Massive tests"
   ]
  },
  {
   "cell_type": "code",
   "execution_count": 38,
   "metadata": {},
   "outputs": [
    {
     "name": "stdout",
     "output_type": "stream",
     "text": [
      "iter    0   |   diff: 1.00000   |   V(start): 0.000 \n",
      "iter    1   |   diff: 0.90000   |   V(start): 0.000 \n",
      "iter    2   |   diff: 0.81000   |   V(start): 0.000 \n",
      "iter    3   |   diff: 0.72900   |   V(start): 0.000 \n",
      "iter    4   |   diff: 0.65610   |   V(start): 0.000 \n",
      "iter    5   |   diff: 0.59049   |   V(start): 0.590 \n",
      "iter    6   |   diff: 0.00000   |   V(start): 0.590 \n",
      "average reward:  1.0\n",
      "Well done!\n"
     ]
    }
   ],
   "source": [
    "mdp = FrozenLakeEnv(slip_chance=0)\n",
    "state_values = value_iteration(mdp)\n",
    "\n",
    "total_rewards = []\n",
    "for game_i in range(1000):\n",
    "    s = mdp.reset()\n",
    "    rewards = []\n",
    "    for t in range(100):\n",
    "        s, r, done, _ = mdp.step(\n",
    "            get_optimal_action(mdp, state_values, s, gamma))\n",
    "        rewards.append(r)\n",
    "        if done:\n",
    "            break\n",
    "    total_rewards.append(np.sum(rewards))\n",
    "\n",
    "print(\"average reward: \", np.mean(total_rewards))\n",
    "assert(1.0 <= np.mean(total_rewards) <= 1.0)\n",
    "print(\"Well done!\")"
   ]
  },
  {
   "cell_type": "code",
   "execution_count": 39,
   "metadata": {},
   "outputs": [
    {
     "name": "stdout",
     "output_type": "stream",
     "text": [
      "iter    0   |   diff: 0.90000   |   V(start): 0.000 \n",
      "iter    1   |   diff: 0.72900   |   V(start): 0.000 \n",
      "iter    2   |   diff: 0.62330   |   V(start): 0.000 \n",
      "iter    3   |   diff: 0.50487   |   V(start): 0.000 \n",
      "iter    4   |   diff: 0.40894   |   V(start): 0.000 \n",
      "iter    5   |   diff: 0.34868   |   V(start): 0.349 \n",
      "iter    6   |   diff: 0.06529   |   V(start): 0.410 \n",
      "iter    7   |   diff: 0.05832   |   V(start): 0.468 \n",
      "iter    8   |   diff: 0.01139   |   V(start): 0.480 \n",
      "iter    9   |   diff: 0.00764   |   V(start): 0.487 \n",
      "iter   10   |   diff: 0.00164   |   V(start): 0.489 \n",
      "iter   11   |   diff: 0.00094   |   V(start): 0.490 \n",
      "iter   12   |   diff: 0.00022   |   V(start): 0.490 \n",
      "iter   13   |   diff: 0.00011   |   V(start): 0.490 \n",
      "iter   14   |   diff: 0.00003   |   V(start): 0.490 \n",
      "iter   15   |   diff: 0.00001   |   V(start): 0.490 \n",
      "iter   16   |   diff: 0.00000   |   V(start): 0.490 \n",
      "average reward:  0.89\n",
      "Well done!\n"
     ]
    }
   ],
   "source": [
    "# Measure agent's average reward\n",
    "mdp = FrozenLakeEnv(slip_chance=0.1)\n",
    "state_values = value_iteration(mdp)\n",
    "\n",
    "total_rewards = []\n",
    "for game_i in range(1000):\n",
    "    s = mdp.reset()\n",
    "    rewards = []\n",
    "    for t in range(100):\n",
    "        s, r, done, _ = mdp.step(\n",
    "            get_optimal_action(mdp, state_values, s, gamma))\n",
    "        rewards.append(r)\n",
    "        if done:\n",
    "            break\n",
    "    total_rewards.append(np.sum(rewards))\n",
    "\n",
    "print(\"average reward: \", np.mean(total_rewards))\n",
    "assert(0.8 <= np.mean(total_rewards) <= 0.95)\n",
    "print(\"Well done!\")"
   ]
  },
  {
   "cell_type": "code",
   "execution_count": 40,
   "metadata": {},
   "outputs": [
    {
     "name": "stdout",
     "output_type": "stream",
     "text": [
      "iter    0   |   diff: 0.75000   |   V(start): 0.000 \n",
      "iter    1   |   diff: 0.50625   |   V(start): 0.000 \n",
      "iter    2   |   diff: 0.39867   |   V(start): 0.000 \n",
      "iter    3   |   diff: 0.26910   |   V(start): 0.000 \n",
      "iter    4   |   diff: 0.18164   |   V(start): 0.000 \n",
      "iter    5   |   diff: 0.14013   |   V(start): 0.140 \n",
      "iter    6   |   diff: 0.07028   |   V(start): 0.199 \n",
      "iter    7   |   diff: 0.06030   |   V(start): 0.260 \n",
      "iter    8   |   diff: 0.02594   |   V(start): 0.285 \n",
      "iter    9   |   diff: 0.01918   |   V(start): 0.305 \n",
      "iter   10   |   diff: 0.00858   |   V(start): 0.313 \n",
      "iter   11   |   diff: 0.00560   |   V(start): 0.319 \n",
      "iter   12   |   diff: 0.00260   |   V(start): 0.321 \n",
      "iter   13   |   diff: 0.00159   |   V(start): 0.323 \n",
      "iter   14   |   diff: 0.00076   |   V(start): 0.324 \n",
      "iter   15   |   diff: 0.00045   |   V(start): 0.324 \n",
      "iter   16   |   diff: 0.00022   |   V(start): 0.324 \n",
      "iter   17   |   diff: 0.00012   |   V(start): 0.325 \n",
      "iter   18   |   diff: 0.00006   |   V(start): 0.325 \n",
      "iter   19   |   diff: 0.00003   |   V(start): 0.325 \n",
      "iter   20   |   diff: 0.00002   |   V(start): 0.325 \n",
      "iter   21   |   diff: 0.00001   |   V(start): 0.325 \n",
      "average reward:  0.664\n",
      "Well done!\n"
     ]
    }
   ],
   "source": [
    "# Measure agent's average reward\n",
    "mdp = FrozenLakeEnv(slip_chance=0.25)\n",
    "state_values = value_iteration(mdp)\n",
    "\n",
    "total_rewards = []\n",
    "for game_i in range(1000):\n",
    "    s = mdp.reset()\n",
    "    rewards = []\n",
    "    for t in range(100):\n",
    "        s, r, done, _ = mdp.step(\n",
    "            get_optimal_action(mdp, state_values, s, gamma))\n",
    "        rewards.append(r)\n",
    "        if done:\n",
    "            break\n",
    "    total_rewards.append(np.sum(rewards))\n",
    "\n",
    "print(\"average reward: \", np.mean(total_rewards))\n",
    "assert(0.6 <= np.mean(total_rewards) <= 0.7)\n",
    "print(\"Well done!\")"
   ]
  },
  {
   "cell_type": "code",
   "execution_count": 41,
   "metadata": {},
   "outputs": [
    {
     "name": "stdout",
     "output_type": "stream",
     "text": [
      "iter    0   |   diff: 0.80000   |   V(start): 0.000 \n",
      "iter    1   |   diff: 0.57600   |   V(start): 0.000 \n",
      "iter    2   |   diff: 0.41472   |   V(start): 0.000 \n",
      "iter    3   |   diff: 0.29860   |   V(start): 0.000 \n",
      "iter    4   |   diff: 0.24186   |   V(start): 0.000 \n",
      "iter    5   |   diff: 0.19349   |   V(start): 0.000 \n",
      "iter    6   |   diff: 0.15325   |   V(start): 0.000 \n",
      "iter    7   |   diff: 0.12288   |   V(start): 0.000 \n",
      "iter    8   |   diff: 0.09930   |   V(start): 0.000 \n",
      "iter    9   |   diff: 0.08037   |   V(start): 0.000 \n",
      "iter   10   |   diff: 0.06426   |   V(start): 0.000 \n",
      "iter   11   |   diff: 0.05129   |   V(start): 0.000 \n",
      "iter   12   |   diff: 0.04330   |   V(start): 0.000 \n",
      "iter   13   |   diff: 0.03802   |   V(start): 0.033 \n",
      "iter   14   |   diff: 0.03332   |   V(start): 0.058 \n",
      "iter   15   |   diff: 0.02910   |   V(start): 0.087 \n",
      "iter   16   |   diff: 0.01855   |   V(start): 0.106 \n",
      "iter   17   |   diff: 0.01403   |   V(start): 0.120 \n",
      "iter   18   |   diff: 0.00810   |   V(start): 0.128 \n",
      "iter   19   |   diff: 0.00555   |   V(start): 0.133 \n",
      "iter   20   |   diff: 0.00321   |   V(start): 0.137 \n",
      "iter   21   |   diff: 0.00247   |   V(start): 0.138 \n",
      "iter   22   |   diff: 0.00147   |   V(start): 0.139 \n",
      "iter   23   |   diff: 0.00104   |   V(start): 0.140 \n",
      "iter   24   |   diff: 0.00058   |   V(start): 0.140 \n",
      "iter   25   |   diff: 0.00036   |   V(start): 0.141 \n",
      "iter   26   |   diff: 0.00024   |   V(start): 0.141 \n",
      "iter   27   |   diff: 0.00018   |   V(start): 0.141 \n",
      "iter   28   |   diff: 0.00012   |   V(start): 0.141 \n",
      "iter   29   |   diff: 0.00007   |   V(start): 0.141 \n",
      "iter   30   |   diff: 0.00004   |   V(start): 0.141 \n",
      "iter   31   |   diff: 0.00003   |   V(start): 0.141 \n",
      "iter   32   |   diff: 0.00001   |   V(start): 0.141 \n",
      "iter   33   |   diff: 0.00001   |   V(start): 0.141 \n",
      "average reward:  0.754\n",
      "Well done!\n"
     ]
    }
   ],
   "source": [
    "# Measure agent's average reward\n",
    "mdp = FrozenLakeEnv(slip_chance=0.2, map_name='8x8')\n",
    "state_values = value_iteration(mdp)\n",
    "\n",
    "total_rewards = []\n",
    "for game_i in range(1000):\n",
    "    s = mdp.reset()\n",
    "    rewards = []\n",
    "    for t in range(100):\n",
    "        s, r, done, _ = mdp.step(\n",
    "            get_optimal_action(mdp, state_values, s, gamma))\n",
    "        rewards.append(r)\n",
    "        if done:\n",
    "            break\n",
    "    total_rewards.append(np.sum(rewards))\n",
    "\n",
    "print(\"average reward: \", np.mean(total_rewards))\n",
    "assert(0.6 <= np.mean(total_rewards) <= 0.8)\n",
    "print(\"Well done!\")"
   ]
  },
  {
   "cell_type": "markdown",
   "metadata": {},
   "source": [
    "# HW Part 1: Value iteration convergence\n",
    "\n",
    "### Find an MDP for which value iteration takes long to converge  (0.5 pts)\n",
    "\n",
    "When we ran value iteration on the small frozen lake problem, the last iteration where an action changed was iteration 6--i.e., value iteration computed the optimal policy at iteration 6. Are there any guarantees regarding how many iterations it'll take value iteration to compute the optimal policy? There are no such guarantees without additional assumptions--we can construct the MDP in such a way that the greedy policy will change after arbitrarily many iterations.\n",
    "\n",
    "Your task: define an MDP with at most 3 states and 2 actions, such that when you run value iteration, the optimal action changes at iteration >= 50. Use discount=0.95. (However, note that the discount doesn't matter here--you can construct an appropriate MDP with any discount.)\n",
    "\n",
    "Note: value function must change at least once after iteration >=50, not necessarily change on every iteration till >=50."
   ]
  },
  {
   "cell_type": "code",
   "execution_count": 51,
   "metadata": {},
   "outputs": [],
   "source": [
    "transition_probs_ex = {\n",
    "    's0': {\n",
    "        'a0': {'s0': 1},\n",
    "        'a1': {'s1': 1}\n",
    "    },\n",
    "    's1': {\n",
    "        'a1': {'s1': 1}\n",
    "    },\n",
    "}\n",
    "rewards_ex = {\n",
    "    's0': {'a0': {'s0': 0.2}, 'a1': {'s1': -1}},\n",
    "    's1': {'a1': {'s1': 0.265}}\n",
    "}\n",
    "\n",
    "from mdp import MDP\n",
    "from numpy import random\n",
    "mdp_ex = MDP(transition_probs_ex, rewards_ex, initial_state=random.choice(tuple(transition_probs_ex.keys())))\n",
    "# Feel free to change the initial_state"
   ]
  },
  {
   "cell_type": "code",
   "execution_count": 53,
   "metadata": {},
   "outputs": [
    {
     "name": "stdout",
     "output_type": "stream",
     "text": [
      "after iteration 69\n",
      "N actions changed = 1 \n",
      "\n"
     ]
    }
   ],
   "source": [
    "state_values_ex = {s: 0 for s in mdp_ex.get_all_states()}\n",
    "gamma_ex = 0.95\n",
    "policy = np.array([get_optimal_action(mdp_ex, state_values_ex, state, gamma_ex)\n",
    "                   for state in sorted(mdp_ex.get_all_states())])\n",
    "\n",
    "for i in range(100):\n",
    "    state_values_ex = value_iteration(mdp_ex, state_values_ex, gamma_ex, num_iter=1)\n",
    "\n",
    "    new_policy = np.array([get_optimal_action(mdp_ex, state_values_ex, state, gamma_ex)\n",
    "                           for state in sorted(mdp_ex.get_all_states())])\n",
    "\n",
    "    n_changes = (policy != new_policy).sum()\n",
    "    if n_changes:\n",
    "        print(\"after iteration %i\" % i)\n",
    "        print(\"N actions changed = %i \\n\" % n_changes)\n",
    "    policy = new_policy\n",
    "\n",
    "# please ignore iter 0 at each step"
   ]
  },
  {
   "cell_type": "code",
   "execution_count": 55,
   "metadata": {},
   "outputs": [
    {
     "data": {
      "image/svg+xml": [
       "<?xml version=\"1.0\" encoding=\"UTF-8\" standalone=\"no\"?>\n",
       "<!DOCTYPE svg PUBLIC \"-//W3C//DTD SVG 1.1//EN\"\n",
       " \"http://www.w3.org/Graphics/SVG/1.1/DTD/svg11.dtd\">\n",
       "<!-- Generated by graphviz version 2.38.0 (20140413.2041)\n",
       " -->\n",
       "<!-- Title: MDP Pages: 1 -->\n",
       "<svg width=\"720pt\" height=\"166pt\"\n",
       " viewBox=\"0.00 0.00 720.00 165.67\" xmlns=\"http://www.w3.org/2000/svg\" xmlns:xlink=\"http://www.w3.org/1999/xlink\">\n",
       "<g id=\"graph0\" class=\"graph\" transform=\"scale(0.778395 0.778395) rotate(0) translate(4 208.836)\">\n",
       "<title>MDP</title>\n",
       "<polygon fill=\"white\" stroke=\"none\" points=\"-4,4 -4,-208.836 920.98,-208.836 920.98,4 -4,4\"/>\n",
       "<!-- s1 -->\n",
       "<g id=\"node1\" class=\"node\"><title>s1</title>\n",
       "<ellipse fill=\"#85ff75\" stroke=\"#85ff75\" cx=\"603.408\" cy=\"-75.4178\" rx=\"71.34\" ry=\"71.34\"/>\n",
       "<ellipse fill=\"none\" stroke=\"#85ff75\" cx=\"603.408\" cy=\"-75.4178\" rx=\"75.3357\" ry=\"75.3357\"/>\n",
       "<text text-anchor=\"middle\" x=\"603.408\" y=\"-82.2178\" font-family=\"Arial\" font-size=\"24.00\">s1</text>\n",
       "<text text-anchor=\"middle\" x=\"603.408\" y=\"-56.2178\" font-family=\"Arial\" font-size=\"24.00\">V =5.26</text>\n",
       "</g>\n",
       "<!-- s1&#45;a1 -->\n",
       "<g id=\"node2\" class=\"node\"><title>s1&#45;a1</title>\n",
       "<ellipse fill=\"lightpink\" stroke=\"lightpink\" cx=\"889.403\" cy=\"-75.4178\" rx=\"27.6545\" ry=\"27.6545\"/>\n",
       "<text text-anchor=\"middle\" x=\"889.403\" y=\"-70.4178\" font-family=\"Arial\" font-size=\"20.00\">a1</text>\n",
       "</g>\n",
       "<!-- s1&#45;&gt;s1&#45;a1 -->\n",
       "<g id=\"edge1\" class=\"edge\"><title>s1&#45;&gt;s1&#45;a1</title>\n",
       "<path fill=\"none\" stroke=\"red\" stroke-width=\"2\" d=\"M678.653,-69.4032C734.374,-68.0949 808.275,-68.5322 851.844,-70.7148\"/>\n",
       "<polygon fill=\"red\" stroke=\"red\" stroke-width=\"2\" points=\"851.793,-74.2175 861.975,-71.2903 852.19,-67.2287 851.793,-74.2175\"/>\n",
       "</g>\n",
       "<!-- s1&#45;&gt;s1&#45;a1 -->\n",
       "<g id=\"edge7\" class=\"edge\"><title>s1&#45;&gt;s1&#45;a1</title>\n",
       "<path fill=\"none\" stroke=\"green\" stroke-width=\"6\" d=\"M678.653,-81.4324C734.374,-82.7406 808.275,-82.3034 851.844,-80.1207\"/>\n",
       "<polygon fill=\"green\" stroke=\"green\" stroke-width=\"6\" points=\"852.289,-85.354 861.975,-79.5452 851.694,-74.8709 852.289,-85.354\"/>\n",
       "</g>\n",
       "<!-- s1&#45;a1&#45;&gt;s1 -->\n",
       "<g id=\"edge2\" class=\"edge\"><title>s1&#45;a1&#45;&gt;s1</title>\n",
       "<path fill=\"none\" stroke=\"blue\" stroke-dasharray=\"5,2\" d=\"M865.1,-61.4291C858.456,-58.1404 851.053,-55.1043 843.825,-53.4178 792.417,-41.4227 733.37,-46.6486 686.779,-55.0079\"/>\n",
       "<polygon fill=\"blue\" stroke=\"blue\" points=\"685.915,-51.6088 676.732,-56.8931 687.206,-58.4888 685.915,-51.6088\"/>\n",
       "<text text-anchor=\"middle\" x=\"770.325\" y=\"-58.6178\" font-family=\"Arial\" font-size=\"16.00\">p = 1 &#160;reward =0.265</text>\n",
       "</g>\n",
       "<!-- s0 -->\n",
       "<g id=\"node3\" class=\"node\"><title>s0</title>\n",
       "<ellipse fill=\"#85ff75\" stroke=\"#85ff75\" cx=\"75.4178\" cy=\"-129.418\" rx=\"71.34\" ry=\"71.34\"/>\n",
       "<ellipse fill=\"none\" stroke=\"#85ff75\" cx=\"75.4178\" cy=\"-129.418\" rx=\"75.3357\" ry=\"75.3357\"/>\n",
       "<text text-anchor=\"middle\" x=\"75.4178\" y=\"-136.218\" font-family=\"Arial\" font-size=\"24.00\">s0</text>\n",
       "<text text-anchor=\"middle\" x=\"75.4178\" y=\"-110.218\" font-family=\"Arial\" font-size=\"24.00\">V =4.00</text>\n",
       "</g>\n",
       "<!-- s0&#45;a0 -->\n",
       "<g id=\"node4\" class=\"node\"><title>s0&#45;a0</title>\n",
       "<ellipse fill=\"lightpink\" stroke=\"lightpink\" cx=\"343.413\" cy=\"-150.418\" rx=\"27.6545\" ry=\"27.6545\"/>\n",
       "<text text-anchor=\"middle\" x=\"343.413\" y=\"-145.418\" font-family=\"Arial\" font-size=\"20.00\">a0</text>\n",
       "</g>\n",
       "<!-- s0&#45;&gt;s0&#45;a0 -->\n",
       "<g id=\"edge3\" class=\"edge\"><title>s0&#45;&gt;s0&#45;a0</title>\n",
       "<path fill=\"none\" stroke=\"red\" stroke-width=\"2\" d=\"M150.866,-129.164C201.657,-132.028 266.681,-137.607 306.405,-142.78\"/>\n",
       "<polygon fill=\"red\" stroke=\"red\" stroke-width=\"2\" points=\"306.037,-146.262 316.42,-144.154 306.989,-139.327 306.037,-146.262\"/>\n",
       "</g>\n",
       "<!-- s0&#45;&gt;s0&#45;a0 -->\n",
       "<g id=\"edge8\" class=\"edge\"><title>s0&#45;&gt;s0&#45;a0</title>\n",
       "<path fill=\"none\" stroke=\"green\" stroke-width=\"6\" d=\"M150.159,-141.355C200.686,-146.501 265.556,-151.197 305.54,-152.346\"/>\n",
       "<polygon fill=\"green\" stroke=\"green\" stroke-width=\"6\" points=\"305.523,-157.597 315.635,-152.567 305.753,-147.099 305.523,-157.597\"/>\n",
       "</g>\n",
       "<!-- s0&#45;a1 -->\n",
       "<g id=\"node5\" class=\"node\"><title>s0&#45;a1</title>\n",
       "<ellipse fill=\"lightpink\" stroke=\"lightpink\" cx=\"343.413\" cy=\"-75.4178\" rx=\"27.6545\" ry=\"27.6545\"/>\n",
       "<text text-anchor=\"middle\" x=\"343.413\" y=\"-70.4178\" font-family=\"Arial\" font-size=\"20.00\">a1</text>\n",
       "</g>\n",
       "<!-- s0&#45;&gt;s0&#45;a1 -->\n",
       "<g id=\"edge5\" class=\"edge\"><title>s0&#45;&gt;s0&#45;a1</title>\n",
       "<path fill=\"none\" stroke=\"red\" stroke-width=\"2\" d=\"M146.659,-104.308C154.091,-102.117 161.581,-100.099 168.836,-98.4178 215.264,-87.6599 269.928,-81.4523 305.326,-78.2565\"/>\n",
       "<polygon fill=\"red\" stroke=\"red\" stroke-width=\"2\" points=\"306.002,-81.711 315.662,-77.3597 305.397,-74.7372 306.002,-81.711\"/>\n",
       "</g>\n",
       "<!-- s0&#45;a0&#45;&gt;s0 -->\n",
       "<g id=\"edge4\" class=\"edge\"><title>s0&#45;a0&#45;&gt;s0</title>\n",
       "<path fill=\"none\" stroke=\"blue\" stroke-dasharray=\"5,2\" d=\"M323.813,-130.679C316.422,-124.2 307.402,-117.798 297.836,-114.418 253.527,-98.7602 201.177,-101.428 158.506,-108.513\"/>\n",
       "<polygon fill=\"blue\" stroke=\"blue\" points=\"157.676,-105.105 148.44,-110.295 158.897,-111.998 157.676,-105.105\"/>\n",
       "<text text-anchor=\"middle\" x=\"233.336\" y=\"-119.618\" font-family=\"Arial\" font-size=\"16.00\">p = 1 &#160;reward =0.2</text>\n",
       "</g>\n",
       "<!-- s0&#45;a1&#45;&gt;s1 -->\n",
       "<g id=\"edge6\" class=\"edge\"><title>s0&#45;a1&#45;&gt;s1</title>\n",
       "<path fill=\"none\" stroke=\"blue\" stroke-dasharray=\"5,2\" d=\"M371.051,-75.4178C405.45,-75.4178 466.952,-75.4178 517.901,-75.4178\"/>\n",
       "<polygon fill=\"blue\" stroke=\"blue\" points=\"517.939,-78.9179 527.939,-75.4178 517.939,-71.9179 517.939,-78.9179\"/>\n",
       "<text text-anchor=\"middle\" x=\"449.49\" y=\"-80.6178\" font-family=\"Arial\" font-size=\"16.00\">p = 1 &#160;reward =&#45;1</text>\n",
       "</g>\n",
       "</g>\n",
       "</svg>\n"
      ],
      "text/plain": [
       "<graphviz.dot.Digraph at 0x7f68ff30d0f0>"
      ]
     },
     "metadata": {},
     "output_type": "display_data"
    }
   ],
   "source": [
    "if has_graphviz:\n",
    "    try:\n",
    "        display(plot_graph_optimal_strategy_and_state_values(mdp_ex, state_values_ex))\n",
    "    except ImportError:\n",
    "        raise ImportError(\"Run the cell that starts with \\\"%%writefile mdp_get_action_value.py\\\"\")"
   ]
  },
  {
   "cell_type": "markdown",
   "metadata": {},
   "source": [
    "### Value iteration convervence proof (0.5 pts)\n",
    "**Note:** Assume that $\\mathcal{S}, \\mathcal{A}$ are finite.\n",
    "\n",
    "Update of value function in value iteration can be rewritten in a form of Bellman operator:\n",
    "\n",
    "$$(TV)(s) = \\max_{a \\in \\mathcal{A}}\\mathbb{E}\\left[ r_{t+1} + \\gamma V(s_{t+1}) | s_t = s, a_t = a\\right]$$\n",
    "\n",
    "Value iteration algorithm with Bellman operator:\n",
    "\n",
    "---\n",
    "&nbsp;&nbsp; Initialize $V_0$\n",
    "\n",
    "&nbsp;&nbsp; **for** $k = 0,1,2,...$ **do**\n",
    "\n",
    "&nbsp;&nbsp;&nbsp;&nbsp; $V_{k+1} \\leftarrow TV_k$\n",
    "\n",
    "&nbsp;&nbsp;**end for**\n",
    "\n",
    "---\n",
    "\n",
    "In [lecture](https://docs.google.com/presentation/d/1lz2oIUTvd2MHWKEQSH8hquS66oe4MZ_eRvVViZs2uuE/edit#slide=id.g4fd6bae29e_2_4) we established contraction property of bellman operator:\n",
    "\n",
    "$$\n",
    "||TV - TU||_{\\infty} \\le \\gamma ||V - U||_{\\infty}\n",
    "$$\n",
    "\n",
    "For all $V, U$\n",
    "\n",
    "Using contraction property of Bellman operator, Banach fixed-point theorem and Bellman equations prove that value function converges to $V^*$ in value iterateion$\n",
    "\n",
    "*<-- Your proof here -->*"
   ]
  },
  {
   "cell_type": "markdown",
   "metadata": {},
   "source": [
    "### Bonus. Asynchronious value iteration (2 pts)\n",
    "\n",
    "Consider the following algorithm:\n",
    "\n",
    "---\n",
    "\n",
    "Initialize $V_0$\n",
    "\n",
    "**for** $k = 0,1,2,...$ **do**\n",
    "\n",
    "&nbsp;&nbsp;&nbsp;&nbsp; Select some state $s_k \\in \\mathcal{S}$    \n",
    "\n",
    "&nbsp;&nbsp;&nbsp;&nbsp; $V(s_k) := (TV)(s_k)$\n",
    "\n",
    "**end for**\n",
    "\n",
    "---\n",
    "\n",
    "\n",
    "Note that unlike common value iteration, here we update only a single state at a time.\n",
    "\n",
    "**Homework.** Prove the following proposition:\n",
    "\n",
    "If for all $s \\in \\mathcal{S}$, $s$ appears in the sequence $(s_0, s_1, ...)$ infinitely often, then $V$ converges to $V*$\n",
    "\n",
    "*<-- Your proof here -->*\n"
   ]
  },
  {
   "cell_type": "markdown",
   "metadata": {},
   "source": [
    "# HW Part 2: Policy iteration\n",
    "\n",
    "## Policy iteration implementateion (2 pts)\n",
    "\n",
    "Let's implement exact policy iteration (PI), which has the following pseudocode:\n",
    "\n",
    "---\n",
    "Initialize $\\pi_0$   `// random or fixed action`\n",
    "\n",
    "For $n=0, 1, 2, \\dots$\n",
    "- Compute the state-value function $V^{\\pi_{n}}$\n",
    "- Using $V^{\\pi_{n}}$, compute the state-action-value function $Q^{\\pi_{n}}$\n",
    "- Compute new policy $\\pi_{n+1}(s) = \\operatorname*{argmax}_a Q^{\\pi_{n}}(s,a)$\n",
    "---\n",
    "\n",
    "Unlike VI, policy iteration has to maintain a policy - chosen actions from all states - and estimate $V^{\\pi_{n}}$ based on this policy. It only changes policy once values converged.\n",
    "\n",
    "\n",
    "Below are a few helpers that you may or may not use in your implementation."
   ]
  },
  {
   "cell_type": "code",
   "execution_count": 22,
   "metadata": {},
   "outputs": [],
   "source": [
    "transition_probs = {\n",
    "    's0': {\n",
    "        'a0': {'s0': 0.5, 's2': 0.5},\n",
    "        'a1': {'s2': 1}\n",
    "    },\n",
    "    's1': {\n",
    "        'a0': {'s0': 0.7, 's1': 0.1, 's2': 0.2},\n",
    "        'a1': {'s1': 0.95, 's2': 0.05}\n",
    "    },\n",
    "    's2': {\n",
    "        'a0': {'s0': 0.4, 's1': 0.6},\n",
    "        'a1': {'s0': 0.3, 's1': 0.3, 's2': 0.4}\n",
    "    }\n",
    "}\n",
    "rewards = {\n",
    "    's1': {'a0': {'s0': +5}},\n",
    "    's2': {'a1': {'s0': -1}}\n",
    "}\n",
    "\n",
    "from mdp import MDP\n",
    "mdp = MDP(transition_probs, rewards, initial_state='s0')"
   ]
  },
  {
   "cell_type": "markdown",
   "metadata": {},
   "source": [
    "Let's write a function called `compute_vpi` that computes the state-value function $V^{\\pi}$ for an arbitrary policy $\\pi$.\n",
    "\n",
    "Unlike VI, this time you must find the exact solution, not just a single iteration.\n",
    "\n",
    "Recall that $V^{\\pi}$ satisfies the following linear equation:\n",
    "$$V^{\\pi}(s) = \\sum_{s'} P(s,\\pi(s),s')[ R(s,\\pi(s),s') + \\gamma V^{\\pi}(s')]$$\n",
    "\n",
    "You'll have to solve a linear system in your code. (Find an exact solution, e.g., with `np.linalg.solve`.)"
   ]
  },
  {
   "cell_type": "code",
   "execution_count": 33,
   "metadata": {},
   "outputs": [],
   "source": [
    "def compute_vpi(mdp, policy, gamma):\n",
    "    \"\"\"\n",
    "    Computes V^pi(s) FOR ALL STATES under given policy.\n",
    "    :param policy: a dict of currently chosen actions {s : a}\n",
    "    :returns: a dict {state : V^pi(state) for all states}\n",
    "    \"\"\"\n",
    "    #<YOUR CODE>\n",
    "    n = len(mdp.get_all_states())\n",
    "    P = np.zeros((n, n))\n",
    "    r = np.zeros(n)\n",
    "    num = { x[1] : x[0] for x in enumerate(mdp.get_all_states())}\n",
    "    for s in mdp.get_all_states():\n",
    "        for ss in mdp.get_next_states(s, policy[s]):\n",
    "            P[num[s], num[ss]] = mdp.get_transition_prob(s, policy[s], ss)\n",
    "            r[num[s]] += P[num[s], num[ss]]*mdp.get_reward(s, policy[s], ss)\n",
    "    P = -gamma*P\n",
    "    for i in range(n):\n",
    "        P[i, i] += 1\n",
    "    #print(P)\n",
    "    #print(r)\n",
    "    #Pv = r\n",
    "    v = np.linalg.solve(P, r)\n",
    "    d = {s : v[num[s]] for s in mdp.get_all_states()}\n",
    "    return d"
   ]
  },
  {
   "cell_type": "code",
   "execution_count": 34,
   "metadata": {},
   "outputs": [
    {
     "name": "stdout",
     "output_type": "stream",
     "text": [
      "{'s1': 16.105387941829587, 's0': 12.657572671263747, 's2': 13.98994874192309}\n"
     ]
    }
   ],
   "source": [
    "gamma = 0.95\n",
    "test_policy = {s: np.random.choice(\n",
    "    mdp.get_possible_actions(s)) for s in mdp.get_all_states()}\n",
    "new_vpi = compute_vpi(mdp, test_policy, gamma)\n",
    "\n",
    "print(new_vpi)\n",
    "\n",
    "assert type(\n",
    "    new_vpi) is dict, \"compute_vpi must return a dict {state : V^pi(state) for all states}\""
   ]
  },
  {
   "cell_type": "markdown",
   "metadata": {},
   "source": [
    "Once we've got new state values, it's time to update our policy."
   ]
  },
  {
   "cell_type": "code",
   "execution_count": 44,
   "metadata": {},
   "outputs": [],
   "source": [
    "def compute_new_policy(mdp, vpi, gamma):\n",
    "    \"\"\"\n",
    "    Computes new policy as argmax of state values\n",
    "    :param vpi: a dict {state : V^pi(state) for all states}\n",
    "    :returns: a dict {state : optimal action for all states}\n",
    "    \"\"\"\n",
    "    #<YOUR CODE>\n",
    "    new_policy = {}\n",
    "    for s in mdp.get_all_states():\n",
    "        new_policy[s] = max(mdp.get_possible_actions(s), key = lambda a: sum(mdp.get_transition_prob(s, a, ss)*\n",
    "                                (mdp.get_reward(s, a, ss) + gamma*vpi[ss]) for ss in mdp.get_next_states(s, a)))\n",
    "    return new_policy"
   ]
  },
  {
   "cell_type": "code",
   "execution_count": 45,
   "metadata": {},
   "outputs": [
    {
     "name": "stdout",
     "output_type": "stream",
     "text": [
      "{'s1': 'a0', 's0': 'a1', 's2': 'a0'}\n"
     ]
    }
   ],
   "source": [
    "new_policy = compute_new_policy(mdp, new_vpi, gamma)\n",
    "\n",
    "print(new_policy)\n",
    "\n",
    "assert type(\n",
    "    new_policy) is dict, \"compute_new_policy must return a dict {state : optimal action for all states}\""
   ]
  },
  {
   "cell_type": "markdown",
   "metadata": {},
   "source": [
    "__Main loop__"
   ]
  },
  {
   "cell_type": "code",
   "execution_count": 49,
   "metadata": {},
   "outputs": [],
   "source": [
    "def policy_iteration(mdp, policy=None, gamma=0.9, num_iter=1000, min_difference=1e-5):\n",
    "    \"\"\" \n",
    "    Run the policy iteration loop for num_iter iterations or till difference between V(s) is below min_difference.\n",
    "    If policy is not given, initialize it at random.\n",
    "    \"\"\"\n",
    "    #<YOUR CODE: a whole lot of it>\n",
    "    state_values = {s: 0 for s in mdp.get_all_states()}\n",
    "    if policy==None:\n",
    "        policy = {s: np.random.choice(mdp.get_possible_actions(s)) for s in mdp.get_all_states()}\n",
    "        \n",
    "    for i in range(num_iter):\n",
    "        new_state_values = compute_vpi(mdp, policy, gamma)\n",
    "        policy = compute_new_policy(mdp, new_state_values, gamma)\n",
    "        \n",
    "        diff = max(abs(new_state_values[s] - state_values[s])\n",
    "               for s in mdp.get_all_states())\n",
    "        state_values = new_state_values\n",
    "\n",
    "        if diff < min_difference:\n",
    "            print(\"Terminated, num iterations = \", i)\n",
    "            break \n",
    "\n",
    "    return state_values, policy"
   ]
  },
  {
   "cell_type": "markdown",
   "metadata": {},
   "source": [
    "__Your PI Results__"
   ]
  },
  {
   "cell_type": "code",
   "execution_count": 57,
   "metadata": {},
   "outputs": [
    {
     "name": "stdout",
     "output_type": "stream",
     "text": [
      "Terminated, num iterations =  1\n"
     ]
    },
    {
     "data": {
      "image/svg+xml": [
       "<?xml version=\"1.0\" encoding=\"UTF-8\" standalone=\"no\"?>\n",
       "<!DOCTYPE svg PUBLIC \"-//W3C//DTD SVG 1.1//EN\"\n",
       " \"http://www.w3.org/Graphics/SVG/1.1/DTD/svg11.dtd\">\n",
       "<!-- Generated by graphviz version 2.38.0 (20140413.2041)\n",
       " -->\n",
       "<!-- Title: MDP Pages: 1 -->\n",
       "<svg width=\"720pt\" height=\"170pt\"\n",
       " viewBox=\"0.00 0.00 720.00 170.10\" xmlns=\"http://www.w3.org/2000/svg\" xmlns:xlink=\"http://www.w3.org/1999/xlink\">\n",
       "<g id=\"graph0\" class=\"graph\" transform=\"scale(0.583483 0.583483) rotate(0) translate(4 287.527)\">\n",
       "<title>MDP</title>\n",
       "<polygon fill=\"white\" stroke=\"none\" points=\"-4,4 -4,-287.527 1229.97,-287.527 1229.97,4 -4,4\"/>\n",
       "<!-- s1 -->\n",
       "<g id=\"node1\" class=\"node\"><title>s1</title>\n",
       "<ellipse fill=\"#85ff75\" stroke=\"#85ff75\" cx=\"75.4178\" cy=\"-165.527\" rx=\"71.34\" ry=\"71.34\"/>\n",
       "<ellipse fill=\"none\" stroke=\"#85ff75\" cx=\"75.4178\" cy=\"-165.527\" rx=\"75.3357\" ry=\"75.3357\"/>\n",
       "<text text-anchor=\"middle\" x=\"75.4178\" y=\"-172.327\" font-family=\"Arial\" font-size=\"24.00\">s1</text>\n",
       "<text text-anchor=\"middle\" x=\"75.4178\" y=\"-146.327\" font-family=\"Arial\" font-size=\"24.00\">V =11.1</text>\n",
       "</g>\n",
       "<!-- s1&#45;a0 -->\n",
       "<g id=\"node2\" class=\"node\"><title>s1&#45;a0</title>\n",
       "<ellipse fill=\"lightpink\" stroke=\"lightpink\" cx=\"272.413\" cy=\"-165.527\" rx=\"27.6545\" ry=\"27.6545\"/>\n",
       "<text text-anchor=\"middle\" x=\"272.413\" y=\"-160.527\" font-family=\"Arial\" font-size=\"20.00\">a0</text>\n",
       "</g>\n",
       "<!-- s1&#45;&gt;s1&#45;a0 -->\n",
       "<g id=\"edge1\" class=\"edge\"><title>s1&#45;&gt;s1&#45;a0</title>\n",
       "<path fill=\"none\" stroke=\"red\" stroke-width=\"2\" d=\"M150.693,-158.951C179.44,-158.514 211.047,-158.902 234.706,-160.114\"/>\n",
       "<polygon fill=\"red\" stroke=\"red\" stroke-width=\"2\" points=\"234.787,-163.625 244.979,-160.729 235.206,-156.638 234.787,-163.625\"/>\n",
       "</g>\n",
       "<!-- s1&#45;&gt;s1&#45;a0 -->\n",
       "<g id=\"edge20\" class=\"edge\"><title>s1&#45;&gt;s1&#45;a0</title>\n",
       "<path fill=\"none\" stroke=\"green\" stroke-width=\"6\" d=\"M150.693,-172.104C179.44,-172.54 211.047,-172.152 234.706,-170.94\"/>\n",
       "<polygon fill=\"green\" stroke=\"green\" stroke-width=\"6\" points=\"235.31,-176.164 244.979,-170.325 234.683,-165.682 235.31,-176.164\"/>\n",
       "</g>\n",
       "<!-- s1&#45;a1 -->\n",
       "<g id=\"node5\" class=\"node\"><title>s1&#45;a1</title>\n",
       "<ellipse fill=\"lightpink\" stroke=\"lightpink\" cx=\"272.413\" cy=\"-91.5274\" rx=\"27.6545\" ry=\"27.6545\"/>\n",
       "<text text-anchor=\"middle\" x=\"272.413\" y=\"-86.5274\" font-family=\"Arial\" font-size=\"20.00\">a1</text>\n",
       "</g>\n",
       "<!-- s1&#45;&gt;s1&#45;a1 -->\n",
       "<g id=\"edge5\" class=\"edge\"><title>s1&#45;&gt;s1&#45;a1</title>\n",
       "<path fill=\"none\" stroke=\"red\" stroke-width=\"2\" d=\"M136.197,-120.509C146.655,-114.288 157.749,-108.634 168.836,-104.527 189.668,-96.811 214.331,-93.5171 234.253,-92.1731\"/>\n",
       "<polygon fill=\"red\" stroke=\"red\" stroke-width=\"2\" points=\"234.687,-95.655 244.484,-91.6231 234.311,-88.665 234.687,-95.655\"/>\n",
       "</g>\n",
       "<!-- s1&#45;a0&#45;&gt;s1 -->\n",
       "<g id=\"edge2\" class=\"edge\"><title>s1&#45;a0&#45;&gt;s1</title>\n",
       "<path fill=\"none\" stroke=\"blue\" stroke-dasharray=\"5,2\" d=\"M247.52,-178.461C240.997,-181.37 233.803,-184.036 226.836,-185.527 204.831,-190.237 180.765,-189.578 158.462,-186.607\"/>\n",
       "<polygon fill=\"blue\" stroke=\"blue\" points=\"158.762,-183.113 148.353,-185.091 157.723,-190.036 158.762,-183.113\"/>\n",
       "<text text-anchor=\"middle\" x=\"197.836\" y=\"-194.727\" font-family=\"Arial\" font-size=\"16.00\">p = 0.1</text>\n",
       "</g>\n",
       "<!-- s0 -->\n",
       "<g id=\"node3\" class=\"node\"><title>s0</title>\n",
       "<ellipse fill=\"#85ff75\" stroke=\"#85ff75\" cx=\"1010.4\" cy=\"-129.527\" rx=\"71.34\" ry=\"71.34\"/>\n",
       "<ellipse fill=\"none\" stroke=\"#85ff75\" cx=\"1010.4\" cy=\"-129.527\" rx=\"75.3357\" ry=\"75.3357\"/>\n",
       "<text text-anchor=\"middle\" x=\"1010.4\" y=\"-136.327\" font-family=\"Arial\" font-size=\"24.00\">s0</text>\n",
       "<text text-anchor=\"middle\" x=\"1010.4\" y=\"-110.327\" font-family=\"Arial\" font-size=\"24.00\">V =8.03</text>\n",
       "</g>\n",
       "<!-- s1&#45;a0&#45;&gt;s0 -->\n",
       "<g id=\"edge3\" class=\"edge\"><title>s1&#45;a0&#45;&gt;s0</title>\n",
       "<path fill=\"none\" stroke=\"blue\" stroke-dasharray=\"5,2\" d=\"M300.265,-168.742C306.103,-169.384 312.25,-170.017 317.99,-170.527 351.708,-173.526 360.157,-174.416 393.99,-175.527 626.413,-183.165 689.51,-207.863 916.98,-159.527 920.905,-158.693 924.899,-157.755 928.915,-156.74\"/>\n",
       "<polygon fill=\"blue\" stroke=\"blue\" points=\"930.156,-160.031 938.915,-154.07 928.351,-153.268 930.156,-160.031\"/>\n",
       "<text text-anchor=\"middle\" x=\"627.325\" y=\"-194.727\" font-family=\"Arial\" font-size=\"16.00\">p = 0.7 &#160;reward =5</text>\n",
       "</g>\n",
       "<!-- s2 -->\n",
       "<g id=\"node4\" class=\"node\"><title>s2</title>\n",
       "<ellipse fill=\"#85ff75\" stroke=\"#85ff75\" cx=\"469.408\" cy=\"-91.5274\" rx=\"71.34\" ry=\"71.34\"/>\n",
       "<ellipse fill=\"none\" stroke=\"#85ff75\" cx=\"469.408\" cy=\"-91.5274\" rx=\"75.3357\" ry=\"75.3357\"/>\n",
       "<text text-anchor=\"middle\" x=\"469.408\" y=\"-98.3274\" font-family=\"Arial\" font-size=\"24.00\">s2</text>\n",
       "<text text-anchor=\"middle\" x=\"469.408\" y=\"-72.3274\" font-family=\"Arial\" font-size=\"24.00\">V =8.92</text>\n",
       "</g>\n",
       "<!-- s1&#45;a0&#45;&gt;s2 -->\n",
       "<g id=\"edge4\" class=\"edge\"><title>s1&#45;a0&#45;&gt;s2</title>\n",
       "<path fill=\"none\" stroke=\"blue\" stroke-dasharray=\"5,2\" d=\"M298.506,-156.005C321.443,-147.3 356.628,-133.948 389.041,-121.647\"/>\n",
       "<polygon fill=\"blue\" stroke=\"blue\" points=\"390.437,-124.861 398.545,-118.04 387.953,-118.316 390.437,-124.861\"/>\n",
       "<text text-anchor=\"middle\" x=\"346.99\" y=\"-153.727\" font-family=\"Arial\" font-size=\"16.00\">p = 0.2</text>\n",
       "</g>\n",
       "<!-- s0&#45;a0 -->\n",
       "<g id=\"node6\" class=\"node\"><title>s0&#45;a0</title>\n",
       "<ellipse fill=\"lightpink\" stroke=\"lightpink\" cx=\"1198.39\" cy=\"-183.527\" rx=\"27.6545\" ry=\"27.6545\"/>\n",
       "<text text-anchor=\"middle\" x=\"1198.39\" y=\"-178.527\" font-family=\"Arial\" font-size=\"20.00\">a0</text>\n",
       "</g>\n",
       "<!-- s0&#45;&gt;s0&#45;a0 -->\n",
       "<g id=\"edge8\" class=\"edge\"><title>s0&#45;&gt;s0&#45;a0</title>\n",
       "<path fill=\"none\" stroke=\"red\" stroke-width=\"2\" d=\"M1079.05,-161.17C1087.28,-164.313 1095.66,-167.196 1103.82,-169.527 1122.13,-174.763 1143.04,-178.128 1160.45,-180.242\"/>\n",
       "<polygon fill=\"red\" stroke=\"red\" stroke-width=\"2\" points=\"1160.46,-183.765 1170.78,-181.403 1161.24,-176.808 1160.46,-183.765\"/>\n",
       "</g>\n",
       "<!-- s0&#45;a1 -->\n",
       "<g id=\"node7\" class=\"node\"><title>s0&#45;a1</title>\n",
       "<ellipse fill=\"lightpink\" stroke=\"lightpink\" cx=\"1198.39\" cy=\"-108.527\" rx=\"27.6545\" ry=\"27.6545\"/>\n",
       "<text text-anchor=\"middle\" x=\"1198.39\" y=\"-103.527\" font-family=\"Arial\" font-size=\"20.00\">a1</text>\n",
       "</g>\n",
       "<!-- s0&#45;&gt;s0&#45;a1 -->\n",
       "<g id=\"edge11\" class=\"edge\"><title>s0&#45;&gt;s0&#45;a1</title>\n",
       "<path fill=\"none\" stroke=\"red\" stroke-width=\"2\" d=\"M1084.37,-114.679C1110.44,-111.364 1138.7,-108.538 1160.45,-107.185\"/>\n",
       "<polygon fill=\"red\" stroke=\"red\" stroke-width=\"2\" points=\"1160.76,-110.673 1170.56,-106.644 1160.39,-103.683 1160.76,-110.673\"/>\n",
       "</g>\n",
       "<!-- s0&#45;&gt;s0&#45;a1 -->\n",
       "<g id=\"edge21\" class=\"edge\"><title>s0&#45;&gt;s0&#45;a1</title>\n",
       "<path fill=\"none\" stroke=\"green\" stroke-width=\"6\" d=\"M1085.98,-127.738C1112.03,-125.137 1140.1,-121.577 1161.54,-118.032\"/>\n",
       "<polygon fill=\"green\" stroke=\"green\" stroke-width=\"6\" points=\"1162.55,-123.186 1171.5,-116.298 1160.75,-112.842 1162.55,-123.186\"/>\n",
       "</g>\n",
       "<!-- s2&#45;a0 -->\n",
       "<g id=\"node8\" class=\"node\"><title>s2&#45;a0</title>\n",
       "<ellipse fill=\"lightpink\" stroke=\"lightpink\" cx=\"737.403\" cy=\"-65.5274\" rx=\"27.6545\" ry=\"27.6545\"/>\n",
       "<text text-anchor=\"middle\" x=\"737.403\" y=\"-60.5274\" font-family=\"Arial\" font-size=\"20.00\">a0</text>\n",
       "</g>\n",
       "<!-- s2&#45;&gt;s2&#45;a0 -->\n",
       "<g id=\"edge13\" class=\"edge\"><title>s2&#45;&gt;s2&#45;a0</title>\n",
       "<path fill=\"none\" stroke=\"red\" stroke-width=\"2\" d=\"M543.796,-78.2468C594.473,-72.1237 659.708,-66.1737 699.766,-64.2811\"/>\n",
       "<polygon fill=\"red\" stroke=\"red\" stroke-width=\"2\" points=\"700.022,-67.7737 709.873,-63.8737 699.74,-60.7794 700.022,-67.7737\"/>\n",
       "</g>\n",
       "<!-- s2&#45;&gt;s2&#45;a0 -->\n",
       "<g id=\"edge22\" class=\"edge\"><title>s2&#45;&gt;s2&#45;a0</title>\n",
       "<path fill=\"none\" stroke=\"green\" stroke-width=\"6\" d=\"M544.856,-90.3818C595.646,-86.5627 660.67,-79.7615 700.395,-73.8425\"/>\n",
       "<polygon fill=\"green\" stroke=\"green\" stroke-width=\"6\" points=\"701.339,-79.0088 710.41,-72.2796 699.72,-68.6343 701.339,-79.0088\"/>\n",
       "</g>\n",
       "<!-- s2&#45;a1 -->\n",
       "<g id=\"node9\" class=\"node\"><title>s2&#45;a1</title>\n",
       "<ellipse fill=\"lightpink\" stroke=\"lightpink\" cx=\"737.403\" cy=\"-138.527\" rx=\"27.6545\" ry=\"27.6545\"/>\n",
       "<text text-anchor=\"middle\" x=\"737.403\" y=\"-133.527\" font-family=\"Arial\" font-size=\"20.00\">a1</text>\n",
       "</g>\n",
       "<!-- s2&#45;&gt;s2&#45;a1 -->\n",
       "<g id=\"edge16\" class=\"edge\"><title>s2&#45;&gt;s2&#45;a1</title>\n",
       "<path fill=\"none\" stroke=\"red\" stroke-width=\"2\" d=\"M539.382,-120.136C547.193,-122.628 555.116,-124.84 562.825,-126.527 609.088,-136.655 663.789,-138.879 699.241,-139.081\"/>\n",
       "<polygon fill=\"red\" stroke=\"red\" stroke-width=\"2\" points=\"699.593,-142.581 709.594,-139.085 699.596,-135.581 699.593,-142.581\"/>\n",
       "</g>\n",
       "<!-- s1&#45;a1&#45;&gt;s1 -->\n",
       "<g id=\"edge6\" class=\"edge\"><title>s1&#45;a1&#45;&gt;s1</title>\n",
       "<path fill=\"none\" stroke=\"blue\" stroke-dasharray=\"5,2\" d=\"M246.094,-101.136C223.142,-109.846 188.06,-123.159 155.741,-135.425\"/>\n",
       "<polygon fill=\"blue\" stroke=\"blue\" points=\"154.372,-132.2 146.265,-139.021 156.856,-138.745 154.372,-132.2\"/>\n",
       "<text text-anchor=\"middle\" x=\"197.836\" y=\"-133.727\" font-family=\"Arial\" font-size=\"16.00\">p = 0.95</text>\n",
       "</g>\n",
       "<!-- s1&#45;a1&#45;&gt;s2 -->\n",
       "<g id=\"edge7\" class=\"edge\"><title>s1&#45;a1&#45;&gt;s2</title>\n",
       "<path fill=\"none\" stroke=\"blue\" stroke-dasharray=\"5,2\" d=\"M300.117,-91.5274C321.764,-91.5274 353.514,-91.5274 383.619,-91.5274\"/>\n",
       "<polygon fill=\"blue\" stroke=\"blue\" points=\"383.748,-95.0275 393.748,-91.5274 383.748,-88.0275 383.748,-95.0275\"/>\n",
       "<text text-anchor=\"middle\" x=\"346.99\" y=\"-96.7274\" font-family=\"Arial\" font-size=\"16.00\">p = 0.05</text>\n",
       "</g>\n",
       "<!-- s0&#45;a0&#45;&gt;s0 -->\n",
       "<g id=\"edge9\" class=\"edge\"><title>s0&#45;a0&#45;&gt;s0</title>\n",
       "<path fill=\"none\" stroke=\"blue\" stroke-dasharray=\"5,2\" d=\"M1178.1,-164.061C1170.77,-157.775 1161.97,-151.428 1152.82,-147.527 1135.17,-140.006 1115.25,-135.389 1096.05,-132.607\"/>\n",
       "<polygon fill=\"blue\" stroke=\"blue\" points=\"1096.46,-129.131 1086.09,-131.314 1095.56,-136.072 1096.46,-129.131\"/>\n",
       "<text text-anchor=\"middle\" x=\"1128.32\" y=\"-152.727\" font-family=\"Arial\" font-size=\"16.00\">p = 0.5</text>\n",
       "</g>\n",
       "<!-- s0&#45;a0&#45;&gt;s2 -->\n",
       "<g id=\"edge10\" class=\"edge\"><title>s0&#45;a0&#45;&gt;s2</title>\n",
       "<path fill=\"none\" stroke=\"blue\" stroke-dasharray=\"5,2\" d=\"M1172.32,-192.783C1083.4,-223.99 777.006,-317.63 562.825,-211.527 542.392,-201.405 525.197,-184.371 511.392,-166.269\"/>\n",
       "<polygon fill=\"blue\" stroke=\"blue\" points=\"514.007,-163.915 505.288,-157.897 508.351,-168.04 514.007,-163.915\"/>\n",
       "<text text-anchor=\"middle\" x=\"849.98\" y=\"-265.727\" font-family=\"Arial\" font-size=\"16.00\">p = 0.5</text>\n",
       "</g>\n",
       "<!-- s0&#45;a1&#45;&gt;s2 -->\n",
       "<g id=\"edge12\" class=\"edge\"><title>s0&#45;a1&#45;&gt;s2</title>\n",
       "<path fill=\"none\" stroke=\"blue\" stroke-dasharray=\"5,2\" d=\"M1175.69,-92.2207C1154.15,-77.0519 1119.56,-55.358 1085.82,-45.5274 897.578,9.30936 816.206,-14.9999 709.825,-28.5274 655.889,-35.3861 596.796,-50.8499 550.813,-64.7396\"/>\n",
       "<polygon fill=\"blue\" stroke=\"blue\" points=\"549.746,-61.4056 541.206,-67.6759 551.793,-68.0999 549.746,-61.4056\"/>\n",
       "<text text-anchor=\"middle\" x=\"849.98\" y=\"-23.7274\" font-family=\"Arial\" font-size=\"16.00\">p = 1</text>\n",
       "</g>\n",
       "<!-- s2&#45;a0&#45;&gt;s1 -->\n",
       "<g id=\"edge14\" class=\"edge\"><title>s2&#45;a0&#45;&gt;s1</title>\n",
       "<path fill=\"none\" stroke=\"blue\" stroke-dasharray=\"5,2\" d=\"M711.534,-55.4149C675.505,-41.3645 606.359,-16.6378 544.825,-7.52741 478.51,2.291 460.249,2.66495 393.99,-7.52741 288.73,-23.7193 259.073,-32.9661 168.836,-89.5274 159.306,-95.5006 149.674,-102.346 140.408,-109.429\"/>\n",
       "<polygon fill=\"blue\" stroke=\"blue\" points=\"138.104,-106.787 132.372,-115.698 142.41,-112.306 138.104,-106.787\"/>\n",
       "<text text-anchor=\"middle\" x=\"346.99\" y=\"-26.7274\" font-family=\"Arial\" font-size=\"16.00\">p = 0.6</text>\n",
       "</g>\n",
       "<!-- s2&#45;a0&#45;&gt;s0 -->\n",
       "<g id=\"edge15\" class=\"edge\"><title>s2&#45;a0&#45;&gt;s0</title>\n",
       "<path fill=\"none\" stroke=\"blue\" stroke-dasharray=\"5,2\" d=\"M764.387,-71.664C801.504,-80.4298 871.367,-96.9292 927.023,-110.073\"/>\n",
       "<polygon fill=\"blue\" stroke=\"blue\" points=\"926.348,-113.51 936.884,-112.402 927.957,-106.697 926.348,-113.51\"/>\n",
       "<text text-anchor=\"middle\" x=\"849.98\" y=\"-112.727\" font-family=\"Arial\" font-size=\"16.00\">p = 0.4</text>\n",
       "</g>\n",
       "<!-- s2&#45;a1&#45;&gt;s1 -->\n",
       "<g id=\"edge17\" class=\"edge\"><title>s2&#45;a1&#45;&gt;s1</title>\n",
       "<path fill=\"none\" stroke=\"blue\" stroke-dasharray=\"5,2\" d=\"M729.013,-164.924C722.438,-182.949 710.847,-205.49 691.825,-216.527 490.773,-333.195 394.774,-266.164 168.836,-211.527 162.834,-210.076 156.773,-208.182 150.779,-205.991\"/>\n",
       "<polygon fill=\"blue\" stroke=\"blue\" points=\"152.019,-202.718 141.432,-202.325 149.463,-209.235 152.019,-202.718\"/>\n",
       "<text text-anchor=\"middle\" x=\"346.99\" y=\"-270.727\" font-family=\"Arial\" font-size=\"16.00\">p = 0.3</text>\n",
       "</g>\n",
       "<!-- s2&#45;a1&#45;&gt;s0 -->\n",
       "<g id=\"edge18\" class=\"edge\"><title>s2&#45;a1&#45;&gt;s0</title>\n",
       "<path fill=\"none\" stroke=\"blue\" stroke-dasharray=\"5,2\" d=\"M765.377,-137.632C802.242,-136.407 870.035,-134.156 924.827,-132.336\"/>\n",
       "<polygon fill=\"blue\" stroke=\"blue\" points=\"925.018,-135.832 934.896,-132.002 924.785,-128.836 925.018,-135.832\"/>\n",
       "<text text-anchor=\"middle\" x=\"849.98\" y=\"-142.727\" font-family=\"Arial\" font-size=\"16.00\">p = 0.3 &#160;reward =&#45;1</text>\n",
       "</g>\n",
       "<!-- s2&#45;a1&#45;&gt;s2 -->\n",
       "<g id=\"edge19\" class=\"edge\"><title>s2&#45;a1&#45;&gt;s2</title>\n",
       "<path fill=\"none\" stroke=\"blue\" stroke-dasharray=\"5,2\" d=\"M717.084,-119.808C709.75,-113.84 700.951,-107.912 691.825,-104.527 667.371,-95.4585 606.795,-92.3473 555.175,-91.4281\"/>\n",
       "<polygon fill=\"blue\" stroke=\"blue\" points=\"555.036,-87.9256 544.983,-91.2723 554.929,-94.9248 555.036,-87.9256\"/>\n",
       "<text text-anchor=\"middle\" x=\"627.325\" y=\"-109.727\" font-family=\"Arial\" font-size=\"16.00\">p = 0.4</text>\n",
       "</g>\n",
       "</g>\n",
       "</svg>\n"
      ],
      "text/plain": [
       "<graphviz.dot.Digraph at 0x7f68ff30d7f0>"
      ]
     },
     "metadata": {},
     "output_type": "display_data"
    }
   ],
   "source": [
    "#<YOUR CODE: compare PI and VI on the MDP from bonus 1, then on small & large FrozenLake>\n",
    "state_values, policy = policy_iteration(mdp)\n",
    "if has_graphviz:\n",
    "    try:\n",
    "        display(plot_graph_optimal_strategy_and_state_values(mdp, state_values))\n",
    "    except ImportError:\n",
    "        raise ImportError(\"Run the cell that starts with \\\"%%writefile mdp_get_action_value.py\\\"\")"
   ]
  },
  {
   "cell_type": "code",
   "execution_count": 56,
   "metadata": {},
   "outputs": [
    {
     "name": "stdout",
     "output_type": "stream",
     "text": [
      "Terminated, num iterations =  1\n"
     ]
    },
    {
     "data": {
      "image/svg+xml": [
       "<?xml version=\"1.0\" encoding=\"UTF-8\" standalone=\"no\"?>\n",
       "<!DOCTYPE svg PUBLIC \"-//W3C//DTD SVG 1.1//EN\"\n",
       " \"http://www.w3.org/Graphics/SVG/1.1/DTD/svg11.dtd\">\n",
       "<!-- Generated by graphviz version 2.38.0 (20140413.2041)\n",
       " -->\n",
       "<!-- Title: MDP Pages: 1 -->\n",
       "<svg width=\"720pt\" height=\"166pt\"\n",
       " viewBox=\"0.00 0.00 720.00 165.67\" xmlns=\"http://www.w3.org/2000/svg\" xmlns:xlink=\"http://www.w3.org/1999/xlink\">\n",
       "<g id=\"graph0\" class=\"graph\" transform=\"scale(0.778395 0.778395) rotate(0) translate(4 208.836)\">\n",
       "<title>MDP</title>\n",
       "<polygon fill=\"white\" stroke=\"none\" points=\"-4,4 -4,-208.836 920.98,-208.836 920.98,4 -4,4\"/>\n",
       "<!-- s1 -->\n",
       "<g id=\"node1\" class=\"node\"><title>s1</title>\n",
       "<ellipse fill=\"#85ff75\" stroke=\"#85ff75\" cx=\"603.408\" cy=\"-75.4178\" rx=\"71.34\" ry=\"71.34\"/>\n",
       "<ellipse fill=\"none\" stroke=\"#85ff75\" cx=\"603.408\" cy=\"-75.4178\" rx=\"75.3357\" ry=\"75.3357\"/>\n",
       "<text text-anchor=\"middle\" x=\"603.408\" y=\"-82.2178\" font-family=\"Arial\" font-size=\"24.00\">s1</text>\n",
       "<text text-anchor=\"middle\" x=\"603.408\" y=\"-56.2178\" font-family=\"Arial\" font-size=\"24.00\">V =2.65</text>\n",
       "</g>\n",
       "<!-- s1&#45;a1 -->\n",
       "<g id=\"node2\" class=\"node\"><title>s1&#45;a1</title>\n",
       "<ellipse fill=\"lightpink\" stroke=\"lightpink\" cx=\"889.403\" cy=\"-75.4178\" rx=\"27.6545\" ry=\"27.6545\"/>\n",
       "<text text-anchor=\"middle\" x=\"889.403\" y=\"-70.4178\" font-family=\"Arial\" font-size=\"20.00\">a1</text>\n",
       "</g>\n",
       "<!-- s1&#45;&gt;s1&#45;a1 -->\n",
       "<g id=\"edge1\" class=\"edge\"><title>s1&#45;&gt;s1&#45;a1</title>\n",
       "<path fill=\"none\" stroke=\"red\" stroke-width=\"2\" d=\"M678.653,-69.4032C734.374,-68.0949 808.275,-68.5322 851.844,-70.7148\"/>\n",
       "<polygon fill=\"red\" stroke=\"red\" stroke-width=\"2\" points=\"851.793,-74.2175 861.975,-71.2903 852.19,-67.2287 851.793,-74.2175\"/>\n",
       "</g>\n",
       "<!-- s1&#45;&gt;s1&#45;a1 -->\n",
       "<g id=\"edge7\" class=\"edge\"><title>s1&#45;&gt;s1&#45;a1</title>\n",
       "<path fill=\"none\" stroke=\"green\" stroke-width=\"6\" d=\"M678.653,-81.4324C734.374,-82.7406 808.275,-82.3034 851.844,-80.1207\"/>\n",
       "<polygon fill=\"green\" stroke=\"green\" stroke-width=\"6\" points=\"852.289,-85.354 861.975,-79.5452 851.694,-74.8709 852.289,-85.354\"/>\n",
       "</g>\n",
       "<!-- s1&#45;a1&#45;&gt;s1 -->\n",
       "<g id=\"edge2\" class=\"edge\"><title>s1&#45;a1&#45;&gt;s1</title>\n",
       "<path fill=\"none\" stroke=\"blue\" stroke-dasharray=\"5,2\" d=\"M865.1,-61.4291C858.456,-58.1404 851.053,-55.1043 843.825,-53.4178 792.417,-41.4227 733.37,-46.6486 686.779,-55.0079\"/>\n",
       "<polygon fill=\"blue\" stroke=\"blue\" points=\"685.915,-51.6088 676.732,-56.8931 687.206,-58.4888 685.915,-51.6088\"/>\n",
       "<text text-anchor=\"middle\" x=\"770.325\" y=\"-58.6178\" font-family=\"Arial\" font-size=\"16.00\">p = 1 &#160;reward =0.265</text>\n",
       "</g>\n",
       "<!-- s0 -->\n",
       "<g id=\"node3\" class=\"node\"><title>s0</title>\n",
       "<ellipse fill=\"#85ff75\" stroke=\"#85ff75\" cx=\"75.4178\" cy=\"-129.418\" rx=\"71.34\" ry=\"71.34\"/>\n",
       "<ellipse fill=\"none\" stroke=\"#85ff75\" cx=\"75.4178\" cy=\"-129.418\" rx=\"75.3357\" ry=\"75.3357\"/>\n",
       "<text text-anchor=\"middle\" x=\"75.4178\" y=\"-136.218\" font-family=\"Arial\" font-size=\"24.00\">s0</text>\n",
       "<text text-anchor=\"middle\" x=\"75.4178\" y=\"-110.218\" font-family=\"Arial\" font-size=\"24.00\">V =2.00</text>\n",
       "</g>\n",
       "<!-- s0&#45;a0 -->\n",
       "<g id=\"node4\" class=\"node\"><title>s0&#45;a0</title>\n",
       "<ellipse fill=\"lightpink\" stroke=\"lightpink\" cx=\"343.413\" cy=\"-150.418\" rx=\"27.6545\" ry=\"27.6545\"/>\n",
       "<text text-anchor=\"middle\" x=\"343.413\" y=\"-145.418\" font-family=\"Arial\" font-size=\"20.00\">a0</text>\n",
       "</g>\n",
       "<!-- s0&#45;&gt;s0&#45;a0 -->\n",
       "<g id=\"edge3\" class=\"edge\"><title>s0&#45;&gt;s0&#45;a0</title>\n",
       "<path fill=\"none\" stroke=\"red\" stroke-width=\"2\" d=\"M150.866,-129.164C201.657,-132.028 266.681,-137.607 306.405,-142.78\"/>\n",
       "<polygon fill=\"red\" stroke=\"red\" stroke-width=\"2\" points=\"306.037,-146.262 316.42,-144.154 306.989,-139.327 306.037,-146.262\"/>\n",
       "</g>\n",
       "<!-- s0&#45;&gt;s0&#45;a0 -->\n",
       "<g id=\"edge8\" class=\"edge\"><title>s0&#45;&gt;s0&#45;a0</title>\n",
       "<path fill=\"none\" stroke=\"green\" stroke-width=\"6\" d=\"M150.159,-141.355C200.686,-146.501 265.556,-151.197 305.54,-152.346\"/>\n",
       "<polygon fill=\"green\" stroke=\"green\" stroke-width=\"6\" points=\"305.523,-157.597 315.635,-152.567 305.753,-147.099 305.523,-157.597\"/>\n",
       "</g>\n",
       "<!-- s0&#45;a1 -->\n",
       "<g id=\"node5\" class=\"node\"><title>s0&#45;a1</title>\n",
       "<ellipse fill=\"lightpink\" stroke=\"lightpink\" cx=\"343.413\" cy=\"-75.4178\" rx=\"27.6545\" ry=\"27.6545\"/>\n",
       "<text text-anchor=\"middle\" x=\"343.413\" y=\"-70.4178\" font-family=\"Arial\" font-size=\"20.00\">a1</text>\n",
       "</g>\n",
       "<!-- s0&#45;&gt;s0&#45;a1 -->\n",
       "<g id=\"edge5\" class=\"edge\"><title>s0&#45;&gt;s0&#45;a1</title>\n",
       "<path fill=\"none\" stroke=\"red\" stroke-width=\"2\" d=\"M146.659,-104.308C154.091,-102.117 161.581,-100.099 168.836,-98.4178 215.264,-87.6599 269.928,-81.4523 305.326,-78.2565\"/>\n",
       "<polygon fill=\"red\" stroke=\"red\" stroke-width=\"2\" points=\"306.002,-81.711 315.662,-77.3597 305.397,-74.7372 306.002,-81.711\"/>\n",
       "</g>\n",
       "<!-- s0&#45;a0&#45;&gt;s0 -->\n",
       "<g id=\"edge4\" class=\"edge\"><title>s0&#45;a0&#45;&gt;s0</title>\n",
       "<path fill=\"none\" stroke=\"blue\" stroke-dasharray=\"5,2\" d=\"M323.813,-130.679C316.422,-124.2 307.402,-117.798 297.836,-114.418 253.527,-98.7602 201.177,-101.428 158.506,-108.513\"/>\n",
       "<polygon fill=\"blue\" stroke=\"blue\" points=\"157.676,-105.105 148.44,-110.295 158.897,-111.998 157.676,-105.105\"/>\n",
       "<text text-anchor=\"middle\" x=\"233.336\" y=\"-119.618\" font-family=\"Arial\" font-size=\"16.00\">p = 1 &#160;reward =0.2</text>\n",
       "</g>\n",
       "<!-- s0&#45;a1&#45;&gt;s1 -->\n",
       "<g id=\"edge6\" class=\"edge\"><title>s0&#45;a1&#45;&gt;s1</title>\n",
       "<path fill=\"none\" stroke=\"blue\" stroke-dasharray=\"5,2\" d=\"M371.051,-75.4178C405.45,-75.4178 466.952,-75.4178 517.901,-75.4178\"/>\n",
       "<polygon fill=\"blue\" stroke=\"blue\" points=\"517.939,-78.9179 527.939,-75.4178 517.939,-71.9179 517.939,-78.9179\"/>\n",
       "<text text-anchor=\"middle\" x=\"449.49\" y=\"-80.6178\" font-family=\"Arial\" font-size=\"16.00\">p = 1 &#160;reward =&#45;1</text>\n",
       "</g>\n",
       "</g>\n",
       "</svg>\n"
      ],
      "text/plain": [
       "<graphviz.dot.Digraph at 0x7f68ff30d0b8>"
      ]
     },
     "metadata": {},
     "output_type": "display_data"
    }
   ],
   "source": [
    "state_values_ex, policy_ex = policy_iteration(mdp_ex)\n",
    "if has_graphviz:\n",
    "    try:\n",
    "        display(plot_graph_optimal_strategy_and_state_values(mdp_ex, state_values_ex))\n",
    "    except ImportError:\n",
    "        raise ImportError(\"Run the cell that starts with \\\"%%writefile mdp_get_action_value.py\\\"\")"
   ]
  },
  {
   "cell_type": "markdown",
   "metadata": {},
   "source": [
    "## Policy iteration convergence (3 pts)\n",
    "\n",
    "**Note:** Assume that $\\mathcal{S}, \\mathcal{A}$ are finite.\n",
    "\n",
    "We can define another Bellman operator:\n",
    "\n",
    "$$(T_{\\pi}V)(s) = \\mathbb{E}_{r, s'|s, a = \\pi(s)}\\left[r + \\gamma V(s')\\right]$$\n",
    "\n",
    "And rewrite policy iteration algorithm in operator form:\n",
    "\n",
    "\n",
    "---\n",
    "\n",
    "Initialize $\\pi_0$\n",
    "\n",
    "**for** $k = 0,1,2,...$ **do**\n",
    "\n",
    "&nbsp;&nbsp;&nbsp;&nbsp; Solve $V_k = T_{\\pi_k}V_k$   \n",
    "\n",
    "&nbsp;&nbsp;&nbsp;&nbsp; Select $\\pi_{k+1}$ s.t. $T_{\\pi_{k+1}}V_k = TV_k$ \n",
    "\n",
    "**end for**\n",
    "\n",
    "---\n",
    "\n",
    "To prove convergence of the algorithm we need to prove two properties: contraction an monotonicity.\n",
    "\n",
    "#### Monotonicity (0.5 pts)\n",
    "\n",
    "For all $V, U$ if $V(s) \\le U(s)$   $\\forall s \\in \\mathcal{S}$ then $(T_\\pi V)(s) \\le (T_\\pi U)(s)$   $\\forall s \\in  \\mathcal{S}$\n",
    "\n",
    "*<-- Your proof here -->*\n",
    "\n",
    "#### Contraction (1 pts)\n",
    "\n",
    "$$\n",
    "||T_\\pi V - T_\\pi U||_{\\infty} \\le \\gamma ||V - U||_{\\infty}\n",
    "$$\n",
    "\n",
    "For all $V, U$\n",
    "\n",
    "*<-- Your proof here -->*\n",
    "\n",
    "#### Convergence (1.5 pts)\n",
    "\n",
    "Prove that there exists iteration $k_0$ such that $\\pi_k = \\pi^*$ for all $k \\ge k_0$\n",
    "\n",
    "*<-- Your proof here -->*"
   ]
  }
 ],
 "metadata": {
  "kernelspec": {
   "display_name": "Python 3",
   "language": "python",
   "name": "python3"
  },
  "language_info": {
   "codemirror_mode": {
    "name": "ipython",
    "version": 3
   },
   "file_extension": ".py",
   "mimetype": "text/x-python",
   "name": "python",
   "nbconvert_exporter": "python",
   "pygments_lexer": "ipython3",
   "version": "3.5.2"
  }
 },
 "nbformat": 4,
 "nbformat_minor": 2
}
